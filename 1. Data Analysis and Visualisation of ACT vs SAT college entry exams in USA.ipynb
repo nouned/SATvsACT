{
 "cells": [
  {
   "cell_type": "markdown",
   "id": "fb53f754",
   "metadata": {},
   "source": [
    "# Assignment 2: College Board"
   ]
  },
  {
   "cell_type": "markdown",
   "id": "9a4c153c",
   "metadata": {},
   "source": [
    "## 1. Brief:\n",
    "<p>The College Board has engaged General Assembly & Associates to review SAT participation in the years following the updated format launched in 2016.</p>\n",
    "<p> The College Board's purpose in engaging GA&A is in seeking recommendations for:\n",
    "    <li>Where to spend money to improve SAT participation?</li>\n",
    "    <li>How to improve SAT participation in one State of the analyst's choosing?</li></p>\n",
    "<p>As the client, The College Board has provided all data relied upon in this analysis unless otherwise stated. For these purposes, the veracity of client data is assumed.</p>\n",
    "<p>Data sets provided by TCB extend from 2017-19. As such, we have understood that a comparative analysis for the impact of the 2016 format change itself is out of scope as it would not be possible to compare participation changes that may have occured due to the format change.</p>\n"
   ]
  },
  {
   "cell_type": "markdown",
   "id": "116ab059",
   "metadata": {},
   "source": [
    "## 2. Method:\n",
    "<p> In undertaking this analysis for TCB, GA&A have utilised the Python programming language due to its capabilities in Data Analytics and working with big data.</p>\n",
    "<p> To deliver on the recommendations required by TCB, GA&A have undertaken the following steps:\n",
    "    <ol>\n",
    "    <li>Clean the data with rationale-backed handling of null or missing values.</li>\n",
    "    <li>Join the data sets together into a single DataFrame.</li>\n",
    "    <li>Correlate participation rates in SAT tests with other data points identified by our analyst. </li>\n",
    "    <li>Explore and compare the chosen State's situation with others.</li>\n",
    "    <li>Based on our analysis: Recommend how to increase participation in the chosen State.</li>\n",
    "    </ol>"
   ]
  },
  {
   "cell_type": "markdown",
   "id": "397d20d2",
   "metadata": {},
   "source": [
    "## 3. Data Cleaning:"
   ]
  },
  {
   "cell_type": "code",
   "execution_count": 148,
   "id": "d17b6af2",
   "metadata": {},
   "outputs": [],
   "source": [
    "#Import pandas exploratory data analysis package for python\n",
    "import pandas as pd\n",
    "#import numpy and matplotlib as redundancy\n",
    "import numpy as np\n",
    "import matplotlib as plt"
   ]
  },
  {
   "cell_type": "markdown",
   "id": "ab4950fd",
   "metadata": {},
   "source": [
    "### 3.1 Exploration of Client Data"
   ]
  },
  {
   "cell_type": "code",
   "execution_count": 149,
   "id": "3ef87ba7",
   "metadata": {},
   "outputs": [],
   "source": [
    "#establish reads on dataframes provided by client\n",
    "comp17 = pd.read_csv('./act_2017.csv') #creates dataframe from csv containing 2017 data from SAT competitor, ACT\n",
    "comp18 = pd.read_csv('./act_2018.csv') #creates dataframe from csv containing 2018 data from SAT competitor, ACT\n",
    "comp19 = pd.read_csv('./act_2019.csv') #creates dataframe from csv containing 2019 data from SAT competitor, ACT\n",
    "comp19_cali = pd.read_csv('./act_2019_ca.csv') #creates dataframe from csv containing 2019 Californian data from SAT's competitor, ACT\n",
    "sat17 = pd.read_csv('./sat_2017.csv') #creates dataframe from csv containing 2017 data from SAT\n",
    "sat18 = pd.read_csv('./sat_2018.csv') #creates dataframe from csv containing 2018 data from SAT\n",
    "sat19 = pd.read_csv('./sat_2019.csv') #creates dataframe from csv containing 2019 data from SAT\n",
    "sat19_cali = pd.read_csv('./sat_2019_ca.csv') #creates dataframe from csv containing 2019 Californian data from SAT\n",
    "sat19_major = pd.read_csv('./sat_2019_by_intended_college_major.csv') #creates dataframe from csv containing 2019 data from SAT regarding intended major\n",
    "test_req_by_college_19 = pd.read_csv('./sat_act_by_college.csv') #creates dataframe from csv comparing test requirements by education institution"
   ]
  },
  {
   "cell_type": "markdown",
   "id": "3c262e29",
   "metadata": {},
   "source": [
    "#### 3.1.1 ACT Data\n",
    "The client has provided data relating to its competitor ACT. This section explores the data provided relating to ACT."
   ]
  },
  {
   "cell_type": "markdown",
   "id": "60941ce5",
   "metadata": {},
   "source": [
    "##### 3.1.1.1 ACT 2017 data"
   ]
  },
  {
   "cell_type": "code",
   "execution_count": 150,
   "id": "65f6ce2f",
   "metadata": {},
   "outputs": [
    {
     "name": "stdout",
     "output_type": "stream",
     "text": [
      "<class 'pandas.core.frame.DataFrame'>\n",
      "RangeIndex: 52 entries, 0 to 51\n",
      "Data columns (total 7 columns):\n",
      " #   Column         Non-Null Count  Dtype  \n",
      "---  ------         --------------  -----  \n",
      " 0   State          52 non-null     object \n",
      " 1   Participation  52 non-null     object \n",
      " 2   English        52 non-null     float64\n",
      " 3   Math           52 non-null     float64\n",
      " 4   Reading        52 non-null     float64\n",
      " 5   Science        52 non-null     float64\n",
      " 6   Composite      52 non-null     object \n",
      "dtypes: float64(4), object(3)\n",
      "memory usage: 3.0+ KB\n"
     ]
    },
    {
     "data": {
      "text/html": [
       "<div>\n",
       "<style scoped>\n",
       "    .dataframe tbody tr th:only-of-type {\n",
       "        vertical-align: middle;\n",
       "    }\n",
       "\n",
       "    .dataframe tbody tr th {\n",
       "        vertical-align: top;\n",
       "    }\n",
       "\n",
       "    .dataframe thead th {\n",
       "        text-align: right;\n",
       "    }\n",
       "</style>\n",
       "<table border=\"1\" class=\"dataframe\">\n",
       "  <thead>\n",
       "    <tr style=\"text-align: right;\">\n",
       "      <th></th>\n",
       "      <th>State</th>\n",
       "      <th>Participation</th>\n",
       "      <th>English</th>\n",
       "      <th>Math</th>\n",
       "      <th>Reading</th>\n",
       "      <th>Science</th>\n",
       "      <th>Composite</th>\n",
       "    </tr>\n",
       "  </thead>\n",
       "  <tbody>\n",
       "    <tr>\n",
       "      <th>0</th>\n",
       "      <td>National</td>\n",
       "      <td>60%</td>\n",
       "      <td>20.3</td>\n",
       "      <td>20.7</td>\n",
       "      <td>21.4</td>\n",
       "      <td>21.0</td>\n",
       "      <td>21.0</td>\n",
       "    </tr>\n",
       "    <tr>\n",
       "      <th>1</th>\n",
       "      <td>Alabama</td>\n",
       "      <td>100%</td>\n",
       "      <td>18.9</td>\n",
       "      <td>18.4</td>\n",
       "      <td>19.7</td>\n",
       "      <td>19.4</td>\n",
       "      <td>19.2</td>\n",
       "    </tr>\n",
       "    <tr>\n",
       "      <th>2</th>\n",
       "      <td>Alaska</td>\n",
       "      <td>65%</td>\n",
       "      <td>18.7</td>\n",
       "      <td>19.8</td>\n",
       "      <td>20.4</td>\n",
       "      <td>19.9</td>\n",
       "      <td>19.8</td>\n",
       "    </tr>\n",
       "  </tbody>\n",
       "</table>\n",
       "</div>"
      ],
      "text/plain": [
       "      State Participation  English  Math  Reading  Science Composite\n",
       "0  National           60%     20.3  20.7     21.4     21.0      21.0\n",
       "1   Alabama          100%     18.9  18.4     19.7     19.4      19.2\n",
       "2    Alaska           65%     18.7  19.8     20.4     19.9      19.8"
      ]
     },
     "execution_count": 150,
     "metadata": {},
     "output_type": "execute_result"
    }
   ],
   "source": [
    "#explore imported dataframe\n",
    "comp17.info()\n",
    "comp17.head(3)"
   ]
  },
  {
   "cell_type": "markdown",
   "id": "352bcac7",
   "metadata": {},
   "source": [
    "<p> Dataframe comp17 appears to contain relevant data to the client's key questions. The dataframe shows no null values. The Particpation and Composite series contain numeric data yet are displaying the object data type and require cleaning.</p>"
   ]
  },
  {
   "cell_type": "code",
   "execution_count": 151,
   "id": "aee1b89c",
   "metadata": {},
   "outputs": [],
   "source": [
    "#removes percentage signs from specified series in specified dataframes in a list of dataframes.\n",
    "def remove_percentage_signs_from_series(dataframes, columns=None):\n",
    "\n",
    "    for dataframe in dataframes:\n",
    "        if columns is None:\n",
    "            columns = [col for col in dataframe.columns if dataframe[col].dtype == 'object']\n",
    "        for column in columns:\n",
    "            try:\n",
    "                dataframe[column] = dataframe[column].str.replace('%', '').astype('float')/100\n",
    "            except ValueError:\n",
    "                pass"
   ]
  },
  {
   "cell_type": "code",
   "execution_count": 152,
   "id": "d44e98c3",
   "metadata": {},
   "outputs": [],
   "source": [
    "#remove percentage signs from Participation\n",
    "remove_percentage_signs_from_series([comp17],columns=['Participation'])"
   ]
  },
  {
   "cell_type": "code",
   "execution_count": 153,
   "id": "e18c0b8c",
   "metadata": {},
   "outputs": [
    {
     "data": {
      "text/html": [
       "<div>\n",
       "<style scoped>\n",
       "    .dataframe tbody tr th:only-of-type {\n",
       "        vertical-align: middle;\n",
       "    }\n",
       "\n",
       "    .dataframe tbody tr th {\n",
       "        vertical-align: top;\n",
       "    }\n",
       "\n",
       "    .dataframe thead th {\n",
       "        text-align: right;\n",
       "    }\n",
       "</style>\n",
       "<table border=\"1\" class=\"dataframe\">\n",
       "  <thead>\n",
       "    <tr style=\"text-align: right;\">\n",
       "      <th></th>\n",
       "      <th>State</th>\n",
       "      <th>Participation</th>\n",
       "      <th>English</th>\n",
       "      <th>Math</th>\n",
       "      <th>Reading</th>\n",
       "      <th>Science</th>\n",
       "      <th>Composite</th>\n",
       "    </tr>\n",
       "  </thead>\n",
       "  <tbody>\n",
       "    <tr>\n",
       "      <th>0</th>\n",
       "      <td>National</td>\n",
       "      <td>0.60</td>\n",
       "      <td>20.3</td>\n",
       "      <td>20.7</td>\n",
       "      <td>21.4</td>\n",
       "      <td>21.0</td>\n",
       "      <td>21.0</td>\n",
       "    </tr>\n",
       "    <tr>\n",
       "      <th>1</th>\n",
       "      <td>Alabama</td>\n",
       "      <td>1.00</td>\n",
       "      <td>18.9</td>\n",
       "      <td>18.4</td>\n",
       "      <td>19.7</td>\n",
       "      <td>19.4</td>\n",
       "      <td>19.2</td>\n",
       "    </tr>\n",
       "    <tr>\n",
       "      <th>2</th>\n",
       "      <td>Alaska</td>\n",
       "      <td>0.65</td>\n",
       "      <td>18.7</td>\n",
       "      <td>19.8</td>\n",
       "      <td>20.4</td>\n",
       "      <td>19.9</td>\n",
       "      <td>19.8</td>\n",
       "    </tr>\n",
       "  </tbody>\n",
       "</table>\n",
       "</div>"
      ],
      "text/plain": [
       "      State  Participation  English  Math  Reading  Science Composite\n",
       "0  National           0.60     20.3  20.7     21.4     21.0      21.0\n",
       "1   Alabama           1.00     18.9  18.4     19.7     19.4      19.2\n",
       "2    Alaska           0.65     18.7  19.8     20.4     19.9      19.8"
      ]
     },
     "execution_count": 153,
     "metadata": {},
     "output_type": "execute_result"
    }
   ],
   "source": [
    "comp17.head(3)"
   ]
  },
  {
   "cell_type": "code",
   "execution_count": 154,
   "id": "cc112a56",
   "metadata": {},
   "outputs": [],
   "source": [
    "#cleans any non-numeric characters from a specified series in a specified dataframe.\n",
    "def clean_numeric_data(dataframe, column):\n",
    "    dataframe[column] = dataframe[column].str.replace(r'[^0-9.]', '', regex=True)\n",
    "    dataframe[column] = pd.to_numeric(dataframe[column], errors='coerce')"
   ]
  },
  {
   "cell_type": "code",
   "execution_count": 155,
   "id": "99cb3f47",
   "metadata": {},
   "outputs": [
    {
     "name": "stdout",
     "output_type": "stream",
     "text": [
      "<class 'pandas.core.frame.DataFrame'>\n",
      "RangeIndex: 52 entries, 0 to 51\n",
      "Data columns (total 7 columns):\n",
      " #   Column         Non-Null Count  Dtype  \n",
      "---  ------         --------------  -----  \n",
      " 0   State          52 non-null     object \n",
      " 1   Participation  52 non-null     float64\n",
      " 2   English        52 non-null     float64\n",
      " 3   Math           52 non-null     float64\n",
      " 4   Reading        52 non-null     float64\n",
      " 5   Science        52 non-null     float64\n",
      " 6   Composite      52 non-null     float64\n",
      "dtypes: float64(6), object(1)\n",
      "memory usage: 3.0+ KB\n"
     ]
    }
   ],
   "source": [
    "clean_numeric_data(comp17,'Composite') #cleans 'x' from last item in series.\n",
    "comp17.info()"
   ]
  },
  {
   "cell_type": "markdown",
   "id": "5648e09c",
   "metadata": {},
   "source": [
    "##### 3.1.1.2 ACT 2018 data"
   ]
  },
  {
   "cell_type": "code",
   "execution_count": 156,
   "id": "1817a713",
   "metadata": {},
   "outputs": [
    {
     "name": "stdout",
     "output_type": "stream",
     "text": [
      "<class 'pandas.core.frame.DataFrame'>\n",
      "RangeIndex: 52 entries, 0 to 51\n",
      "Data columns (total 3 columns):\n",
      " #   Column         Non-Null Count  Dtype  \n",
      "---  ------         --------------  -----  \n",
      " 0   State          52 non-null     object \n",
      " 1   Participation  52 non-null     object \n",
      " 2   Composite      52 non-null     float64\n",
      "dtypes: float64(1), object(2)\n",
      "memory usage: 1.3+ KB\n"
     ]
    },
    {
     "data": {
      "text/html": [
       "<div>\n",
       "<style scoped>\n",
       "    .dataframe tbody tr th:only-of-type {\n",
       "        vertical-align: middle;\n",
       "    }\n",
       "\n",
       "    .dataframe tbody tr th {\n",
       "        vertical-align: top;\n",
       "    }\n",
       "\n",
       "    .dataframe thead th {\n",
       "        text-align: right;\n",
       "    }\n",
       "</style>\n",
       "<table border=\"1\" class=\"dataframe\">\n",
       "  <thead>\n",
       "    <tr style=\"text-align: right;\">\n",
       "      <th></th>\n",
       "      <th>State</th>\n",
       "      <th>Participation</th>\n",
       "      <th>Composite</th>\n",
       "    </tr>\n",
       "  </thead>\n",
       "  <tbody>\n",
       "    <tr>\n",
       "      <th>0</th>\n",
       "      <td>Alabama</td>\n",
       "      <td>100%</td>\n",
       "      <td>19.1</td>\n",
       "    </tr>\n",
       "    <tr>\n",
       "      <th>1</th>\n",
       "      <td>Alaska</td>\n",
       "      <td>33%</td>\n",
       "      <td>20.8</td>\n",
       "    </tr>\n",
       "    <tr>\n",
       "      <th>2</th>\n",
       "      <td>Arizona</td>\n",
       "      <td>66%</td>\n",
       "      <td>19.2</td>\n",
       "    </tr>\n",
       "  </tbody>\n",
       "</table>\n",
       "</div>"
      ],
      "text/plain": [
       "     State Participation  Composite\n",
       "0  Alabama          100%       19.1\n",
       "1   Alaska           33%       20.8\n",
       "2  Arizona           66%       19.2"
      ]
     },
     "execution_count": 156,
     "metadata": {},
     "output_type": "execute_result"
    }
   ],
   "source": [
    "#explores the competitor's 2018 dataframe.\n",
    "comp18.info()\n",
    "comp18.head(3)"
   ]
  },
  {
   "cell_type": "markdown",
   "id": "c97ebc08",
   "metadata": {},
   "source": [
    "Dataframe appears to be complete with no null values, however there is likely a duplicate as the dataframe contains 52 values but there appears to be no National value as with the 2017 data and the US has 51 States. Participation is again recorded as an object and requires cleaning to return an equivalent float."
   ]
  },
  {
   "cell_type": "code",
   "execution_count": 157,
   "id": "fcc7ea25",
   "metadata": {},
   "outputs": [
    {
     "name": "stdout",
     "output_type": "stream",
     "text": [
      "    State Participation  Composite\n",
      "20  Maine            7%       24.0\n"
     ]
    }
   ],
   "source": [
    "#prints the duplicate row\n",
    "print(comp18[comp18.duplicated()])"
   ]
  },
  {
   "cell_type": "code",
   "execution_count": 158,
   "id": "8a174747",
   "metadata": {},
   "outputs": [
    {
     "data": {
      "text/plain": [
       "0"
      ]
     },
     "execution_count": 158,
     "metadata": {},
     "output_type": "execute_result"
    }
   ],
   "source": [
    "#the duplicated content appears to be the data for the State of Maine. \n",
    "#Because the data appears twice in full we will drop this row. to clean the dataframe.\n",
    "comp18 = comp18.drop_duplicates()\n",
    "comp18.duplicated().sum()"
   ]
  },
  {
   "cell_type": "code",
   "execution_count": 159,
   "id": "edf6c627",
   "metadata": {},
   "outputs": [],
   "source": [
    "#now we update 'Participation' from object to float\n",
    "remove_percentage_signs_from_series([comp18],columns=['Participation'])"
   ]
  },
  {
   "cell_type": "code",
   "execution_count": 160,
   "id": "e9b7c35f",
   "metadata": {},
   "outputs": [
    {
     "name": "stdout",
     "output_type": "stream",
     "text": [
      "<class 'pandas.core.frame.DataFrame'>\n",
      "Int64Index: 51 entries, 0 to 51\n",
      "Data columns (total 3 columns):\n",
      " #   Column         Non-Null Count  Dtype  \n",
      "---  ------         --------------  -----  \n",
      " 0   State          51 non-null     object \n",
      " 1   Participation  51 non-null     float64\n",
      " 2   Composite      51 non-null     float64\n",
      "dtypes: float64(2), object(1)\n",
      "memory usage: 1.6+ KB\n"
     ]
    }
   ],
   "source": [
    "#check data to confirm\n",
    "comp18.info()"
   ]
  },
  {
   "cell_type": "markdown",
   "id": "c8f87699",
   "metadata": {},
   "source": [
    "##### 3.1.1.3 ACT 2019 data"
   ]
  },
  {
   "cell_type": "code",
   "execution_count": 161,
   "id": "42c8fc78",
   "metadata": {},
   "outputs": [
    {
     "name": "stdout",
     "output_type": "stream",
     "text": [
      "<class 'pandas.core.frame.DataFrame'>\n",
      "RangeIndex: 52 entries, 0 to 51\n",
      "Data columns (total 3 columns):\n",
      " #   Column         Non-Null Count  Dtype  \n",
      "---  ------         --------------  -----  \n",
      " 0   State          52 non-null     object \n",
      " 1   Participation  52 non-null     object \n",
      " 2   Composite      52 non-null     float64\n",
      "dtypes: float64(1), object(2)\n",
      "memory usage: 1.3+ KB\n"
     ]
    },
    {
     "data": {
      "text/html": [
       "<div>\n",
       "<style scoped>\n",
       "    .dataframe tbody tr th:only-of-type {\n",
       "        vertical-align: middle;\n",
       "    }\n",
       "\n",
       "    .dataframe tbody tr th {\n",
       "        vertical-align: top;\n",
       "    }\n",
       "\n",
       "    .dataframe thead th {\n",
       "        text-align: right;\n",
       "    }\n",
       "</style>\n",
       "<table border=\"1\" class=\"dataframe\">\n",
       "  <thead>\n",
       "    <tr style=\"text-align: right;\">\n",
       "      <th></th>\n",
       "      <th>State</th>\n",
       "      <th>Participation</th>\n",
       "      <th>Composite</th>\n",
       "    </tr>\n",
       "  </thead>\n",
       "  <tbody>\n",
       "    <tr>\n",
       "      <th>0</th>\n",
       "      <td>Alabama</td>\n",
       "      <td>100%</td>\n",
       "      <td>18.9</td>\n",
       "    </tr>\n",
       "    <tr>\n",
       "      <th>1</th>\n",
       "      <td>Alaska</td>\n",
       "      <td>38%</td>\n",
       "      <td>20.1</td>\n",
       "    </tr>\n",
       "    <tr>\n",
       "      <th>2</th>\n",
       "      <td>Arizona</td>\n",
       "      <td>73%</td>\n",
       "      <td>19.0</td>\n",
       "    </tr>\n",
       "  </tbody>\n",
       "</table>\n",
       "</div>"
      ],
      "text/plain": [
       "     State Participation  Composite\n",
       "0  Alabama          100%       18.9\n",
       "1   Alaska           38%       20.1\n",
       "2  Arizona           73%       19.0"
      ]
     },
     "execution_count": 161,
     "metadata": {},
     "output_type": "execute_result"
    }
   ],
   "source": [
    "comp19.info()\n",
    "comp19.head(3)"
   ]
  },
  {
   "cell_type": "markdown",
   "id": "a520636f",
   "metadata": {},
   "source": [
    "As with comp18, comp19 dataframe appears to be complete with no null values, however there is likely a duplicate as the dataframe contains 52 values but there appears to be no National value as with the 2017 data and the US has 51 States. Participation is again recorded as an object and requires cleaning to return an equivalent float."
   ]
  },
  {
   "cell_type": "code",
   "execution_count": 162,
   "id": "607dcd4c",
   "metadata": {},
   "outputs": [
    {
     "name": "stdout",
     "output_type": "stream",
     "text": [
      "Empty DataFrame\n",
      "Columns: [State, Participation, Composite]\n",
      "Index: []\n"
     ]
    }
   ],
   "source": [
    "#prints the duplicate row\n",
    "print(comp19[comp19.duplicated()])"
   ]
  },
  {
   "cell_type": "markdown",
   "id": "9cd089a1",
   "metadata": {},
   "source": [
    "As no duplicates were found, we will check for a 'National' entry elsewhere in the dataframe."
   ]
  },
  {
   "cell_type": "code",
   "execution_count": 163,
   "id": "a2a0ced6",
   "metadata": {},
   "outputs": [
    {
     "data": {
      "text/html": [
       "<div>\n",
       "<style scoped>\n",
       "    .dataframe tbody tr th:only-of-type {\n",
       "        vertical-align: middle;\n",
       "    }\n",
       "\n",
       "    .dataframe tbody tr th {\n",
       "        vertical-align: top;\n",
       "    }\n",
       "\n",
       "    .dataframe thead th {\n",
       "        text-align: right;\n",
       "    }\n",
       "</style>\n",
       "<table border=\"1\" class=\"dataframe\">\n",
       "  <thead>\n",
       "    <tr style=\"text-align: right;\">\n",
       "      <th></th>\n",
       "      <th>State</th>\n",
       "      <th>Participation</th>\n",
       "      <th>Composite</th>\n",
       "    </tr>\n",
       "  </thead>\n",
       "  <tbody>\n",
       "    <tr>\n",
       "      <th>47</th>\n",
       "      <td>Washington</td>\n",
       "      <td>24%</td>\n",
       "      <td>22.1</td>\n",
       "    </tr>\n",
       "    <tr>\n",
       "      <th>48</th>\n",
       "      <td>West Virginia</td>\n",
       "      <td>49%</td>\n",
       "      <td>20.8</td>\n",
       "    </tr>\n",
       "    <tr>\n",
       "      <th>49</th>\n",
       "      <td>Wisconsin</td>\n",
       "      <td>100%</td>\n",
       "      <td>20.3</td>\n",
       "    </tr>\n",
       "    <tr>\n",
       "      <th>50</th>\n",
       "      <td>Wyoming</td>\n",
       "      <td>100%</td>\n",
       "      <td>19.8</td>\n",
       "    </tr>\n",
       "    <tr>\n",
       "      <th>51</th>\n",
       "      <td>National</td>\n",
       "      <td>52%</td>\n",
       "      <td>20.7</td>\n",
       "    </tr>\n",
       "  </tbody>\n",
       "</table>\n",
       "</div>"
      ],
      "text/plain": [
       "            State Participation  Composite\n",
       "47     Washington           24%       22.1\n",
       "48  West Virginia           49%       20.8\n",
       "49      Wisconsin          100%       20.3\n",
       "50        Wyoming          100%       19.8\n",
       "51       National           52%       20.7"
      ]
     },
     "execution_count": 163,
     "metadata": {},
     "output_type": "execute_result"
    }
   ],
   "source": [
    "#checks the last 5 entries.\n",
    "comp19.tail()"
   ]
  },
  {
   "cell_type": "markdown",
   "id": "f0ef808d",
   "metadata": {},
   "source": [
    "As a National field was found in the tail, the US has 50 States plus the District of Colombia (treated as a State in the set) to equal 51, and no duplicates were identified, we can accept the 52 entries as complete. We will now clean the Participation column to convert from object to float."
   ]
  },
  {
   "cell_type": "code",
   "execution_count": 164,
   "id": "71f65e20",
   "metadata": {},
   "outputs": [],
   "source": [
    "#now we update 'Participation' from object to float\n",
    "remove_percentage_signs_from_series([comp19],columns=['Participation'])"
   ]
  },
  {
   "cell_type": "code",
   "execution_count": 165,
   "id": "0efbf67d",
   "metadata": {},
   "outputs": [
    {
     "name": "stdout",
     "output_type": "stream",
     "text": [
      "<class 'pandas.core.frame.DataFrame'>\n",
      "RangeIndex: 52 entries, 0 to 51\n",
      "Data columns (total 3 columns):\n",
      " #   Column         Non-Null Count  Dtype  \n",
      "---  ------         --------------  -----  \n",
      " 0   State          52 non-null     object \n",
      " 1   Participation  52 non-null     float64\n",
      " 2   Composite      52 non-null     float64\n",
      "dtypes: float64(2), object(1)\n",
      "memory usage: 1.3+ KB\n"
     ]
    }
   ],
   "source": [
    "#check data to confirm\n",
    "comp19.info()"
   ]
  },
  {
   "cell_type": "markdown",
   "id": "a51e138e",
   "metadata": {},
   "source": [
    "##### 3.1.1.4 ACT 2019 Californian data"
   ]
  },
  {
   "cell_type": "code",
   "execution_count": 166,
   "id": "5ba8d887",
   "metadata": {},
   "outputs": [
    {
     "name": "stdout",
     "output_type": "stream",
     "text": [
      "<class 'pandas.core.frame.DataFrame'>\n",
      "RangeIndex: 2310 entries, 0 to 2309\n",
      "Data columns (total 18 columns):\n",
      " #   Column       Non-Null Count  Dtype  \n",
      "---  ------       --------------  -----  \n",
      " 0   CDS          2309 non-null   float64\n",
      " 1   CCode        2309 non-null   float64\n",
      " 2   CDCode       2309 non-null   float64\n",
      " 3   SCode        1787 non-null   float64\n",
      " 4   RType        2309 non-null   object \n",
      " 5   SName        1729 non-null   object \n",
      " 6   DName        2251 non-null   object \n",
      " 7   CName        2309 non-null   object \n",
      " 8   Enroll12     2309 non-null   float64\n",
      " 9   NumTstTakr   2309 non-null   float64\n",
      " 10  AvgScrRead   1953 non-null   object \n",
      " 11  AvgScrEng    1953 non-null   object \n",
      " 12  AvgScrMath   1953 non-null   object \n",
      " 13  AvgScrSci    1953 non-null   object \n",
      " 14  NumGE21      1953 non-null   object \n",
      " 15  PctGE21      1953 non-null   object \n",
      " 16  Year         2309 non-null   object \n",
      " 17  Unnamed: 17  0 non-null      float64\n",
      "dtypes: float64(7), object(11)\n",
      "memory usage: 325.0+ KB\n"
     ]
    },
    {
     "data": {
      "text/html": [
       "<div>\n",
       "<style scoped>\n",
       "    .dataframe tbody tr th:only-of-type {\n",
       "        vertical-align: middle;\n",
       "    }\n",
       "\n",
       "    .dataframe tbody tr th {\n",
       "        vertical-align: top;\n",
       "    }\n",
       "\n",
       "    .dataframe thead th {\n",
       "        text-align: right;\n",
       "    }\n",
       "</style>\n",
       "<table border=\"1\" class=\"dataframe\">\n",
       "  <thead>\n",
       "    <tr style=\"text-align: right;\">\n",
       "      <th></th>\n",
       "      <th>CDS</th>\n",
       "      <th>CCode</th>\n",
       "      <th>CDCode</th>\n",
       "      <th>SCode</th>\n",
       "      <th>RType</th>\n",
       "      <th>SName</th>\n",
       "      <th>DName</th>\n",
       "      <th>CName</th>\n",
       "      <th>Enroll12</th>\n",
       "      <th>NumTstTakr</th>\n",
       "      <th>AvgScrRead</th>\n",
       "      <th>AvgScrEng</th>\n",
       "      <th>AvgScrMath</th>\n",
       "      <th>AvgScrSci</th>\n",
       "      <th>NumGE21</th>\n",
       "      <th>PctGE21</th>\n",
       "      <th>Year</th>\n",
       "      <th>Unnamed: 17</th>\n",
       "    </tr>\n",
       "  </thead>\n",
       "  <tbody>\n",
       "    <tr>\n",
       "      <th>0</th>\n",
       "      <td>3.366993e+13</td>\n",
       "      <td>33.0</td>\n",
       "      <td>3366993.0</td>\n",
       "      <td>129882.0</td>\n",
       "      <td>S</td>\n",
       "      <td>21st Century Learning Institute</td>\n",
       "      <td>Beaumont Unified</td>\n",
       "      <td>Riverside</td>\n",
       "      <td>18.0</td>\n",
       "      <td>0.0</td>\n",
       "      <td>NaN</td>\n",
       "      <td>NaN</td>\n",
       "      <td>NaN</td>\n",
       "      <td>NaN</td>\n",
       "      <td>NaN</td>\n",
       "      <td>NaN</td>\n",
       "      <td>2018-19</td>\n",
       "      <td>NaN</td>\n",
       "    </tr>\n",
       "    <tr>\n",
       "      <th>1</th>\n",
       "      <td>1.964212e+13</td>\n",
       "      <td>19.0</td>\n",
       "      <td>1964212.0</td>\n",
       "      <td>1995596.0</td>\n",
       "      <td>S</td>\n",
       "      <td>ABC Secondary (Alternative)</td>\n",
       "      <td>ABC Unified</td>\n",
       "      <td>Los Angeles</td>\n",
       "      <td>58.0</td>\n",
       "      <td>0.0</td>\n",
       "      <td>NaN</td>\n",
       "      <td>NaN</td>\n",
       "      <td>NaN</td>\n",
       "      <td>NaN</td>\n",
       "      <td>NaN</td>\n",
       "      <td>NaN</td>\n",
       "      <td>2018-19</td>\n",
       "      <td>NaN</td>\n",
       "    </tr>\n",
       "    <tr>\n",
       "      <th>2</th>\n",
       "      <td>1.563776e+13</td>\n",
       "      <td>15.0</td>\n",
       "      <td>1563776.0</td>\n",
       "      <td>1530377.0</td>\n",
       "      <td>S</td>\n",
       "      <td>Abraham Lincoln Alternative</td>\n",
       "      <td>Southern Kern Unified</td>\n",
       "      <td>Kern</td>\n",
       "      <td>18.0</td>\n",
       "      <td>0.0</td>\n",
       "      <td>NaN</td>\n",
       "      <td>NaN</td>\n",
       "      <td>NaN</td>\n",
       "      <td>NaN</td>\n",
       "      <td>NaN</td>\n",
       "      <td>NaN</td>\n",
       "      <td>2018-19</td>\n",
       "      <td>NaN</td>\n",
       "    </tr>\n",
       "  </tbody>\n",
       "</table>\n",
       "</div>"
      ],
      "text/plain": [
       "            CDS  CCode     CDCode      SCode RType  \\\n",
       "0  3.366993e+13   33.0  3366993.0   129882.0     S   \n",
       "1  1.964212e+13   19.0  1964212.0  1995596.0     S   \n",
       "2  1.563776e+13   15.0  1563776.0  1530377.0     S   \n",
       "\n",
       "                             SName                  DName        CName  \\\n",
       "0  21st Century Learning Institute       Beaumont Unified    Riverside   \n",
       "1      ABC Secondary (Alternative)            ABC Unified  Los Angeles   \n",
       "2      Abraham Lincoln Alternative  Southern Kern Unified         Kern   \n",
       "\n",
       "   Enroll12  NumTstTakr AvgScrRead AvgScrEng AvgScrMath AvgScrSci NumGE21  \\\n",
       "0      18.0         0.0        NaN       NaN        NaN       NaN     NaN   \n",
       "1      58.0         0.0        NaN       NaN        NaN       NaN     NaN   \n",
       "2      18.0         0.0        NaN       NaN        NaN       NaN     NaN   \n",
       "\n",
       "  PctGE21     Year  Unnamed: 17  \n",
       "0     NaN  2018-19          NaN  \n",
       "1     NaN  2018-19          NaN  \n",
       "2     NaN  2018-19          NaN  "
      ]
     },
     "execution_count": 166,
     "metadata": {},
     "output_type": "execute_result"
    }
   ],
   "source": [
    "comp19_cali.info()\n",
    "comp19_cali.head(3)"
   ]
  },
  {
   "cell_type": "markdown",
   "id": "4fe55f2e",
   "metadata": {},
   "source": [
    "While the Californian Competitor dataframe contains a number of missing values, the dataframe itself doesn't appear to contain data directly relevant to the engagement. Therefore, rather than cleaning the data within the dataframe, we have chosen to park this dataframe until such time as it is determined relevant."
   ]
  },
  {
   "cell_type": "markdown",
   "id": "7b0e651e",
   "metadata": {},
   "source": [
    "#### 3.1.2 SAT Client Data"
   ]
  },
  {
   "cell_type": "markdown",
   "id": "73fc7df5",
   "metadata": {},
   "source": [
    "##### 3.1.2.1 SAT 2017 data"
   ]
  },
  {
   "cell_type": "code",
   "execution_count": 167,
   "id": "6fb36e37",
   "metadata": {},
   "outputs": [
    {
     "name": "stdout",
     "output_type": "stream",
     "text": [
      "<class 'pandas.core.frame.DataFrame'>\n",
      "RangeIndex: 51 entries, 0 to 50\n",
      "Data columns (total 5 columns):\n",
      " #   Column                              Non-Null Count  Dtype \n",
      "---  ------                              --------------  ----- \n",
      " 0   State                               51 non-null     object\n",
      " 1   Participation                       51 non-null     object\n",
      " 2   Evidence-Based Reading and Writing  51 non-null     int64 \n",
      " 3   Math                                51 non-null     int64 \n",
      " 4   Total                               51 non-null     int64 \n",
      "dtypes: int64(3), object(2)\n",
      "memory usage: 2.1+ KB\n"
     ]
    },
    {
     "data": {
      "text/html": [
       "<div>\n",
       "<style scoped>\n",
       "    .dataframe tbody tr th:only-of-type {\n",
       "        vertical-align: middle;\n",
       "    }\n",
       "\n",
       "    .dataframe tbody tr th {\n",
       "        vertical-align: top;\n",
       "    }\n",
       "\n",
       "    .dataframe thead th {\n",
       "        text-align: right;\n",
       "    }\n",
       "</style>\n",
       "<table border=\"1\" class=\"dataframe\">\n",
       "  <thead>\n",
       "    <tr style=\"text-align: right;\">\n",
       "      <th></th>\n",
       "      <th>State</th>\n",
       "      <th>Participation</th>\n",
       "      <th>Evidence-Based Reading and Writing</th>\n",
       "      <th>Math</th>\n",
       "      <th>Total</th>\n",
       "    </tr>\n",
       "  </thead>\n",
       "  <tbody>\n",
       "    <tr>\n",
       "      <th>0</th>\n",
       "      <td>Alabama</td>\n",
       "      <td>5%</td>\n",
       "      <td>593</td>\n",
       "      <td>572</td>\n",
       "      <td>1165</td>\n",
       "    </tr>\n",
       "    <tr>\n",
       "      <th>1</th>\n",
       "      <td>Alaska</td>\n",
       "      <td>38%</td>\n",
       "      <td>547</td>\n",
       "      <td>533</td>\n",
       "      <td>1080</td>\n",
       "    </tr>\n",
       "    <tr>\n",
       "      <th>2</th>\n",
       "      <td>Arizona</td>\n",
       "      <td>30%</td>\n",
       "      <td>563</td>\n",
       "      <td>553</td>\n",
       "      <td>1116</td>\n",
       "    </tr>\n",
       "  </tbody>\n",
       "</table>\n",
       "</div>"
      ],
      "text/plain": [
       "     State Participation  Evidence-Based Reading and Writing  Math  Total\n",
       "0  Alabama            5%                                 593   572   1165\n",
       "1   Alaska           38%                                 547   533   1080\n",
       "2  Arizona           30%                                 563   553   1116"
      ]
     },
     "execution_count": 167,
     "metadata": {},
     "output_type": "execute_result"
    }
   ],
   "source": [
    "#Explores dataframe related to SAT 2017\n",
    "sat17.info()\n",
    "sat17.head(3)"
   ]
  },
  {
   "cell_type": "code",
   "execution_count": 168,
   "id": "f7bdc4c2",
   "metadata": {},
   "outputs": [
    {
     "name": "stdout",
     "output_type": "stream",
     "text": [
      "Empty DataFrame\n",
      "Columns: [State, Participation, Evidence-Based Reading and Writing, Math, Total]\n",
      "Index: []\n"
     ]
    }
   ],
   "source": [
    "#Exploratory analysis showed 51 data items with no 'National' field, just screening for duplicates for completeness\n",
    "print(sat17[sat17.duplicated()])"
   ]
  },
  {
   "cell_type": "code",
   "execution_count": 169,
   "id": "be48639a",
   "metadata": {},
   "outputs": [],
   "source": [
    "#now we update 'Participation' from object to float\n",
    "remove_percentage_signs_from_series([sat17],columns=['Participation'])"
   ]
  },
  {
   "cell_type": "code",
   "execution_count": 170,
   "id": "1ec36192",
   "metadata": {},
   "outputs": [
    {
     "name": "stdout",
     "output_type": "stream",
     "text": [
      "<class 'pandas.core.frame.DataFrame'>\n",
      "RangeIndex: 51 entries, 0 to 50\n",
      "Data columns (total 5 columns):\n",
      " #   Column                              Non-Null Count  Dtype  \n",
      "---  ------                              --------------  -----  \n",
      " 0   State                               51 non-null     object \n",
      " 1   Participation                       51 non-null     float64\n",
      " 2   Evidence-Based Reading and Writing  51 non-null     int64  \n",
      " 3   Math                                51 non-null     int64  \n",
      " 4   Total                               51 non-null     int64  \n",
      "dtypes: float64(1), int64(3), object(1)\n",
      "memory usage: 2.1+ KB\n"
     ]
    }
   ],
   "source": [
    "#check data to confirm participation is now float\n",
    "sat17.info()"
   ]
  },
  {
   "cell_type": "markdown",
   "id": "37e10c5a",
   "metadata": {},
   "source": [
    "##### 3.1.2.2 SAT 2018 data"
   ]
  },
  {
   "cell_type": "code",
   "execution_count": 171,
   "id": "bb7e8f00",
   "metadata": {},
   "outputs": [
    {
     "name": "stdout",
     "output_type": "stream",
     "text": [
      "<class 'pandas.core.frame.DataFrame'>\n",
      "RangeIndex: 51 entries, 0 to 50\n",
      "Data columns (total 5 columns):\n",
      " #   Column                              Non-Null Count  Dtype \n",
      "---  ------                              --------------  ----- \n",
      " 0   State                               51 non-null     object\n",
      " 1   Participation                       51 non-null     object\n",
      " 2   Evidence-Based Reading and Writing  51 non-null     int64 \n",
      " 3   Math                                51 non-null     int64 \n",
      " 4   Total                               51 non-null     int64 \n",
      "dtypes: int64(3), object(2)\n",
      "memory usage: 2.1+ KB\n"
     ]
    },
    {
     "data": {
      "text/html": [
       "<div>\n",
       "<style scoped>\n",
       "    .dataframe tbody tr th:only-of-type {\n",
       "        vertical-align: middle;\n",
       "    }\n",
       "\n",
       "    .dataframe tbody tr th {\n",
       "        vertical-align: top;\n",
       "    }\n",
       "\n",
       "    .dataframe thead th {\n",
       "        text-align: right;\n",
       "    }\n",
       "</style>\n",
       "<table border=\"1\" class=\"dataframe\">\n",
       "  <thead>\n",
       "    <tr style=\"text-align: right;\">\n",
       "      <th></th>\n",
       "      <th>State</th>\n",
       "      <th>Participation</th>\n",
       "      <th>Evidence-Based Reading and Writing</th>\n",
       "      <th>Math</th>\n",
       "      <th>Total</th>\n",
       "    </tr>\n",
       "  </thead>\n",
       "  <tbody>\n",
       "    <tr>\n",
       "      <th>0</th>\n",
       "      <td>Alabama</td>\n",
       "      <td>6%</td>\n",
       "      <td>595</td>\n",
       "      <td>571</td>\n",
       "      <td>1166</td>\n",
       "    </tr>\n",
       "    <tr>\n",
       "      <th>1</th>\n",
       "      <td>Alaska</td>\n",
       "      <td>43%</td>\n",
       "      <td>562</td>\n",
       "      <td>544</td>\n",
       "      <td>1106</td>\n",
       "    </tr>\n",
       "    <tr>\n",
       "      <th>2</th>\n",
       "      <td>Arizona</td>\n",
       "      <td>29%</td>\n",
       "      <td>577</td>\n",
       "      <td>572</td>\n",
       "      <td>1149</td>\n",
       "    </tr>\n",
       "  </tbody>\n",
       "</table>\n",
       "</div>"
      ],
      "text/plain": [
       "     State Participation  Evidence-Based Reading and Writing  Math  Total\n",
       "0  Alabama            6%                                 595   571   1166\n",
       "1   Alaska           43%                                 562   544   1106\n",
       "2  Arizona           29%                                 577   572   1149"
      ]
     },
     "execution_count": 171,
     "metadata": {},
     "output_type": "execute_result"
    }
   ],
   "source": [
    "sat18.info()\n",
    "sat18.head(3)"
   ]
  },
  {
   "cell_type": "code",
   "execution_count": 172,
   "id": "3011d4f2",
   "metadata": {},
   "outputs": [
    {
     "name": "stdout",
     "output_type": "stream",
     "text": [
      "Empty DataFrame\n",
      "Columns: [State, Participation, Evidence-Based Reading and Writing, Math, Total]\n",
      "Index: []\n"
     ]
    }
   ],
   "source": [
    "#Exploration showed 51 entries and no null values. for completeness, we will check for duplicates.\n",
    "print(sat18[sat18.duplicated()])"
   ]
  },
  {
   "cell_type": "code",
   "execution_count": 173,
   "id": "33b2332a",
   "metadata": {},
   "outputs": [],
   "source": [
    "#No duplicates were found. We will convert 'Participation' to a float.\n",
    "remove_percentage_signs_from_series([sat18],columns=['Participation'])"
   ]
  },
  {
   "cell_type": "code",
   "execution_count": 174,
   "id": "9fae2d43",
   "metadata": {},
   "outputs": [
    {
     "name": "stdout",
     "output_type": "stream",
     "text": [
      "<class 'pandas.core.frame.DataFrame'>\n",
      "RangeIndex: 51 entries, 0 to 50\n",
      "Data columns (total 5 columns):\n",
      " #   Column                              Non-Null Count  Dtype  \n",
      "---  ------                              --------------  -----  \n",
      " 0   State                               51 non-null     object \n",
      " 1   Participation                       51 non-null     float64\n",
      " 2   Evidence-Based Reading and Writing  51 non-null     int64  \n",
      " 3   Math                                51 non-null     int64  \n",
      " 4   Total                               51 non-null     int64  \n",
      "dtypes: float64(1), int64(3), object(1)\n",
      "memory usage: 2.1+ KB\n"
     ]
    }
   ],
   "source": [
    "#confirming conversion was successful\n",
    "sat18.info()"
   ]
  },
  {
   "cell_type": "markdown",
   "id": "cab74bc0",
   "metadata": {},
   "source": [
    "##### 3.1.2.3 SAT 2019 data"
   ]
  },
  {
   "cell_type": "code",
   "execution_count": 175,
   "id": "23fc0746",
   "metadata": {},
   "outputs": [
    {
     "name": "stdout",
     "output_type": "stream",
     "text": [
      "<class 'pandas.core.frame.DataFrame'>\n",
      "RangeIndex: 53 entries, 0 to 52\n",
      "Data columns (total 5 columns):\n",
      " #   Column              Non-Null Count  Dtype \n",
      "---  ------              --------------  ----- \n",
      " 0   State               53 non-null     object\n",
      " 1   Participation Rate  53 non-null     object\n",
      " 2   EBRW                53 non-null     int64 \n",
      " 3   Math                53 non-null     int64 \n",
      " 4   Total               53 non-null     int64 \n",
      "dtypes: int64(3), object(2)\n",
      "memory usage: 2.2+ KB\n"
     ]
    },
    {
     "data": {
      "text/html": [
       "<div>\n",
       "<style scoped>\n",
       "    .dataframe tbody tr th:only-of-type {\n",
       "        vertical-align: middle;\n",
       "    }\n",
       "\n",
       "    .dataframe tbody tr th {\n",
       "        vertical-align: top;\n",
       "    }\n",
       "\n",
       "    .dataframe thead th {\n",
       "        text-align: right;\n",
       "    }\n",
       "</style>\n",
       "<table border=\"1\" class=\"dataframe\">\n",
       "  <thead>\n",
       "    <tr style=\"text-align: right;\">\n",
       "      <th></th>\n",
       "      <th>State</th>\n",
       "      <th>Participation Rate</th>\n",
       "      <th>EBRW</th>\n",
       "      <th>Math</th>\n",
       "      <th>Total</th>\n",
       "    </tr>\n",
       "  </thead>\n",
       "  <tbody>\n",
       "    <tr>\n",
       "      <th>0</th>\n",
       "      <td>Alabama</td>\n",
       "      <td>7%</td>\n",
       "      <td>583</td>\n",
       "      <td>560</td>\n",
       "      <td>1143</td>\n",
       "    </tr>\n",
       "    <tr>\n",
       "      <th>1</th>\n",
       "      <td>Alaska</td>\n",
       "      <td>41%</td>\n",
       "      <td>556</td>\n",
       "      <td>541</td>\n",
       "      <td>1097</td>\n",
       "    </tr>\n",
       "    <tr>\n",
       "      <th>2</th>\n",
       "      <td>Arizona</td>\n",
       "      <td>31%</td>\n",
       "      <td>569</td>\n",
       "      <td>565</td>\n",
       "      <td>1134</td>\n",
       "    </tr>\n",
       "  </tbody>\n",
       "</table>\n",
       "</div>"
      ],
      "text/plain": [
       "     State Participation Rate  EBRW  Math  Total\n",
       "0  Alabama                 7%   583   560   1143\n",
       "1   Alaska                41%   556   541   1097\n",
       "2  Arizona                31%   569   565   1134"
      ]
     },
     "execution_count": 175,
     "metadata": {},
     "output_type": "execute_result"
    }
   ],
   "source": [
    "sat19.info()\n",
    "sat19.head(3)"
   ]
  },
  {
   "cell_type": "markdown",
   "id": "7687e2a2",
   "metadata": {},
   "source": [
    "sat19 shows 53 entries, suggesting duplicates and/or a 'National' field may be included in the data. There are no null values identified."
   ]
  },
  {
   "cell_type": "code",
   "execution_count": 176,
   "id": "686607d9",
   "metadata": {},
   "outputs": [
    {
     "data": {
      "text/plain": [
       "0"
      ]
     },
     "execution_count": 176,
     "metadata": {},
     "output_type": "execute_result"
    }
   ],
   "source": [
    "#check for duplicates.\n",
    "sat19.duplicated().sum()"
   ]
  },
  {
   "cell_type": "code",
   "execution_count": 177,
   "id": "ef1c8e57",
   "metadata": {},
   "outputs": [
    {
     "name": "stdout",
     "output_type": "stream",
     "text": [
      "             State Participation Rate  EBRW  Math  Total\n",
      "39     Puerto Rico                  —   483   462    944\n",
      "47  Virgin Islands                  —   490   445    935\n"
     ]
    }
   ],
   "source": [
    "#no duplicates were found, but the US holds a number of non-State territories that may be included in this dataset.\n",
    "#to test, we'll compare sat19 to sat18 to see if any additional territories or districts have been added in 2019.\n",
    "print(sat19[~sat19['State'].isin(sat18['State'])])"
   ]
  },
  {
   "cell_type": "code",
   "execution_count": 178,
   "id": "e1240e26",
   "metadata": {},
   "outputs": [
    {
     "name": "stdout",
     "output_type": "stream",
     "text": [
      "<class 'pandas.core.frame.DataFrame'>\n",
      "Int64Index: 51 entries, 0 to 52\n",
      "Data columns (total 5 columns):\n",
      " #   Column              Non-Null Count  Dtype \n",
      "---  ------              --------------  ----- \n",
      " 0   State               51 non-null     object\n",
      " 1   Participation Rate  51 non-null     object\n",
      " 2   EBRW                51 non-null     int64 \n",
      " 3   Math                51 non-null     int64 \n",
      " 4   Total               51 non-null     int64 \n",
      "dtypes: int64(3), object(2)\n",
      "memory usage: 2.4+ KB\n"
     ]
    }
   ],
   "source": [
    "# Puerto Rico and Virgin Islands are legitimate US Territories on par with DC.\n",
    "# However they have recorded no participation (the client's key focus) and do not appear in earlier SAT or competitor data.\n",
    "# For these reasons, we will remove them from the dataframe.\n",
    "sat19 = sat19.replace('—', np.nan).dropna()\n",
    "sat19.info()"
   ]
  },
  {
   "cell_type": "code",
   "execution_count": 179,
   "id": "67799689",
   "metadata": {},
   "outputs": [
    {
     "name": "stdout",
     "output_type": "stream",
     "text": [
      "<class 'pandas.core.frame.DataFrame'>\n",
      "Int64Index: 51 entries, 0 to 52\n",
      "Data columns (total 5 columns):\n",
      " #   Column              Non-Null Count  Dtype  \n",
      "---  ------              --------------  -----  \n",
      " 0   State               51 non-null     object \n",
      " 1   Participation Rate  51 non-null     float64\n",
      " 2   EBRW                51 non-null     int64  \n",
      " 3   Math                51 non-null     int64  \n",
      " 4   Total               51 non-null     int64  \n",
      "dtypes: float64(1), int64(3), object(1)\n",
      "memory usage: 2.4+ KB\n"
     ]
    }
   ],
   "source": [
    "#With PR and VI cleaned from the dataframe, we will convert Participation Rate to a float.\n",
    "remove_percentage_signs_from_series([sat19],columns=['Participation Rate'])\n",
    "sat19.info()"
   ]
  },
  {
   "cell_type": "markdown",
   "id": "5ee66618",
   "metadata": {},
   "source": [
    "##### 3.1.2.4 SAT 2019 Californian data"
   ]
  },
  {
   "cell_type": "code",
   "execution_count": 180,
   "id": "c050018d",
   "metadata": {},
   "outputs": [
    {
     "name": "stdout",
     "output_type": "stream",
     "text": [
      "<class 'pandas.core.frame.DataFrame'>\n",
      "RangeIndex: 2580 entries, 0 to 2579\n",
      "Data columns (total 26 columns):\n",
      " #   Column                 Non-Null Count  Dtype  \n",
      "---  ------                 --------------  -----  \n",
      " 0   CDS                    2579 non-null   float64\n",
      " 1   CCode                  2579 non-null   float64\n",
      " 2   CDCode                 2579 non-null   float64\n",
      " 3   SCode                  2579 non-null   float64\n",
      " 4   RType                  2579 non-null   object \n",
      " 5   SName                  1982 non-null   object \n",
      " 6   DName                  2521 non-null   object \n",
      " 7   CName                  2579 non-null   object \n",
      " 8   Enroll12               2579 non-null   float64\n",
      " 9   NumTSTTakr12           2579 non-null   float64\n",
      " 10  NumERWBenchmark12      2304 non-null   object \n",
      " 11  PctERWBenchmark12      2304 non-null   object \n",
      " 12  NumMathBenchmark12     2304 non-null   object \n",
      " 13  PctMathBenchmark12     2304 non-null   object \n",
      " 14  Enroll11               2579 non-null   float64\n",
      " 15  NumTSTTakr11           2579 non-null   float64\n",
      " 16  NumERWBenchmark11      2269 non-null   object \n",
      " 17  PctERWBenchmark11      2269 non-null   object \n",
      " 18  NumMathBenchmark11     2269 non-null   object \n",
      " 19  PctMathBenchmark11     2269 non-null   object \n",
      " 20  TotNumBothBenchmark12  2304 non-null   object \n",
      " 21  PctBothBenchmark12     2304 non-null   object \n",
      " 22  TotNumBothBenchmark11  2269 non-null   object \n",
      " 23  PctBothBenchmark11     2269 non-null   object \n",
      " 24  Year                   2579 non-null   object \n",
      " 25  Unnamed: 25            0 non-null      float64\n",
      "dtypes: float64(9), object(17)\n",
      "memory usage: 524.2+ KB\n"
     ]
    },
    {
     "data": {
      "text/html": [
       "<div>\n",
       "<style scoped>\n",
       "    .dataframe tbody tr th:only-of-type {\n",
       "        vertical-align: middle;\n",
       "    }\n",
       "\n",
       "    .dataframe tbody tr th {\n",
       "        vertical-align: top;\n",
       "    }\n",
       "\n",
       "    .dataframe thead th {\n",
       "        text-align: right;\n",
       "    }\n",
       "</style>\n",
       "<table border=\"1\" class=\"dataframe\">\n",
       "  <thead>\n",
       "    <tr style=\"text-align: right;\">\n",
       "      <th></th>\n",
       "      <th>CDS</th>\n",
       "      <th>CCode</th>\n",
       "      <th>CDCode</th>\n",
       "      <th>SCode</th>\n",
       "      <th>RType</th>\n",
       "      <th>SName</th>\n",
       "      <th>DName</th>\n",
       "      <th>CName</th>\n",
       "      <th>Enroll12</th>\n",
       "      <th>NumTSTTakr12</th>\n",
       "      <th>...</th>\n",
       "      <th>NumERWBenchmark11</th>\n",
       "      <th>PctERWBenchmark11</th>\n",
       "      <th>NumMathBenchmark11</th>\n",
       "      <th>PctMathBenchmark11</th>\n",
       "      <th>TotNumBothBenchmark12</th>\n",
       "      <th>PctBothBenchmark12</th>\n",
       "      <th>TotNumBothBenchmark11</th>\n",
       "      <th>PctBothBenchmark11</th>\n",
       "      <th>Year</th>\n",
       "      <th>Unnamed: 25</th>\n",
       "    </tr>\n",
       "  </thead>\n",
       "  <tbody>\n",
       "    <tr>\n",
       "      <th>0</th>\n",
       "      <td>6.615981e+12</td>\n",
       "      <td>6.0</td>\n",
       "      <td>661598.0</td>\n",
       "      <td>630046.0</td>\n",
       "      <td>S</td>\n",
       "      <td>Colusa Alternative Home</td>\n",
       "      <td>Colusa Unified</td>\n",
       "      <td>Colusa</td>\n",
       "      <td>18.0</td>\n",
       "      <td>0.0</td>\n",
       "      <td>...</td>\n",
       "      <td>NaN</td>\n",
       "      <td>NaN</td>\n",
       "      <td>NaN</td>\n",
       "      <td>NaN</td>\n",
       "      <td>NaN</td>\n",
       "      <td>NaN</td>\n",
       "      <td>NaN</td>\n",
       "      <td>NaN</td>\n",
       "      <td>2018-19</td>\n",
       "      <td>NaN</td>\n",
       "    </tr>\n",
       "    <tr>\n",
       "      <th>1</th>\n",
       "      <td>6.616061e+12</td>\n",
       "      <td>6.0</td>\n",
       "      <td>661606.0</td>\n",
       "      <td>634758.0</td>\n",
       "      <td>S</td>\n",
       "      <td>Maxwell Sr High</td>\n",
       "      <td>Maxwell Unified</td>\n",
       "      <td>Colusa</td>\n",
       "      <td>29.0</td>\n",
       "      <td>10.0</td>\n",
       "      <td>...</td>\n",
       "      <td>*</td>\n",
       "      <td>*</td>\n",
       "      <td>*</td>\n",
       "      <td>*</td>\n",
       "      <td>*</td>\n",
       "      <td>*</td>\n",
       "      <td>*</td>\n",
       "      <td>*</td>\n",
       "      <td>2018-19</td>\n",
       "      <td>NaN</td>\n",
       "    </tr>\n",
       "    <tr>\n",
       "      <th>2</th>\n",
       "      <td>1.964733e+13</td>\n",
       "      <td>19.0</td>\n",
       "      <td>1964733.0</td>\n",
       "      <td>1930924.0</td>\n",
       "      <td>S</td>\n",
       "      <td>Belmont Senior High</td>\n",
       "      <td>Los Angeles Unified</td>\n",
       "      <td>Los Angeles</td>\n",
       "      <td>206.0</td>\n",
       "      <td>102.0</td>\n",
       "      <td>...</td>\n",
       "      <td>42</td>\n",
       "      <td>24.14</td>\n",
       "      <td>12</td>\n",
       "      <td>6.90</td>\n",
       "      <td>14</td>\n",
       "      <td>13.73</td>\n",
       "      <td>11</td>\n",
       "      <td>6.32</td>\n",
       "      <td>2018-19</td>\n",
       "      <td>NaN</td>\n",
       "    </tr>\n",
       "  </tbody>\n",
       "</table>\n",
       "<p>3 rows × 26 columns</p>\n",
       "</div>"
      ],
      "text/plain": [
       "            CDS  CCode     CDCode      SCode RType                    SName  \\\n",
       "0  6.615981e+12    6.0   661598.0   630046.0     S  Colusa Alternative Home   \n",
       "1  6.616061e+12    6.0   661606.0   634758.0     S          Maxwell Sr High   \n",
       "2  1.964733e+13   19.0  1964733.0  1930924.0     S      Belmont Senior High   \n",
       "\n",
       "                 DName        CName  Enroll12  NumTSTTakr12  ...  \\\n",
       "0       Colusa Unified       Colusa      18.0           0.0  ...   \n",
       "1      Maxwell Unified       Colusa      29.0          10.0  ...   \n",
       "2  Los Angeles Unified  Los Angeles     206.0         102.0  ...   \n",
       "\n",
       "  NumERWBenchmark11 PctERWBenchmark11 NumMathBenchmark11 PctMathBenchmark11  \\\n",
       "0               NaN               NaN                NaN                NaN   \n",
       "1                 *                 *                  *                  *   \n",
       "2                42             24.14                 12               6.90   \n",
       "\n",
       "   TotNumBothBenchmark12  PctBothBenchmark12 TotNumBothBenchmark11  \\\n",
       "0                    NaN                 NaN                   NaN   \n",
       "1                      *                   *                     *   \n",
       "2                     14               13.73                    11   \n",
       "\n",
       "  PctBothBenchmark11     Year Unnamed: 25  \n",
       "0                NaN  2018-19         NaN  \n",
       "1                  *  2018-19         NaN  \n",
       "2               6.32  2018-19         NaN  \n",
       "\n",
       "[3 rows x 26 columns]"
      ]
     },
     "execution_count": 180,
     "metadata": {},
     "output_type": "execute_result"
    }
   ],
   "source": [
    "sat19_cali.info()\n",
    "sat19_cali.head(3)"
   ]
  },
  {
   "cell_type": "markdown",
   "id": "8afb015f",
   "metadata": {},
   "source": [
    "As with the Californian Competitor dataframe, the 2019 SAT Californian dataframe contains a number of missing values. However, as with the equivalent competitor dataframe, the 2019 SAT Californian dataframe itself doesn't appear to contain data directly relevant to the client's problem. Therefore, rather than cleaning the data within the dataframe, we have chosen to park this dataframe until such time as it is determined relevant."
   ]
  },
  {
   "cell_type": "code",
   "execution_count": 181,
   "id": "5954fe38",
   "metadata": {},
   "outputs": [
    {
     "name": "stdout",
     "output_type": "stream",
     "text": [
      "<class 'pandas.core.frame.DataFrame'>\n",
      "RangeIndex: 38 entries, 0 to 37\n",
      "Data columns (total 6 columns):\n",
      " #   Column                Non-Null Count  Dtype \n",
      "---  ------                --------------  ----- \n",
      " 0   IntendedCollegeMajor  38 non-null     object\n",
      " 1   TestTakers            38 non-null     object\n",
      " 2   Percent               38 non-null     object\n",
      " 3   Total                 38 non-null     int64 \n",
      " 4   ReadingWriting        38 non-null     int64 \n",
      " 5   Math                  38 non-null     int64 \n",
      "dtypes: int64(3), object(3)\n",
      "memory usage: 1.9+ KB\n"
     ]
    },
    {
     "data": {
      "text/html": [
       "<div>\n",
       "<style scoped>\n",
       "    .dataframe tbody tr th:only-of-type {\n",
       "        vertical-align: middle;\n",
       "    }\n",
       "\n",
       "    .dataframe tbody tr th {\n",
       "        vertical-align: top;\n",
       "    }\n",
       "\n",
       "    .dataframe thead th {\n",
       "        text-align: right;\n",
       "    }\n",
       "</style>\n",
       "<table border=\"1\" class=\"dataframe\">\n",
       "  <thead>\n",
       "    <tr style=\"text-align: right;\">\n",
       "      <th></th>\n",
       "      <th>IntendedCollegeMajor</th>\n",
       "      <th>TestTakers</th>\n",
       "      <th>Percent</th>\n",
       "      <th>Total</th>\n",
       "      <th>ReadingWriting</th>\n",
       "      <th>Math</th>\n",
       "    </tr>\n",
       "  </thead>\n",
       "  <tbody>\n",
       "    <tr>\n",
       "      <th>0</th>\n",
       "      <td>Agriculture, AgricultureOperations, and Relate...</td>\n",
       "      <td>24,913</td>\n",
       "      <td>1%</td>\n",
       "      <td>977</td>\n",
       "      <td>496</td>\n",
       "      <td>481</td>\n",
       "    </tr>\n",
       "    <tr>\n",
       "      <th>1</th>\n",
       "      <td>Architecture and Related Services</td>\n",
       "      <td>28,988</td>\n",
       "      <td>2%</td>\n",
       "      <td>1047</td>\n",
       "      <td>520</td>\n",
       "      <td>527</td>\n",
       "    </tr>\n",
       "    <tr>\n",
       "      <th>2</th>\n",
       "      <td>Area, Ethnic, Cultural, and Gender Studies</td>\n",
       "      <td>2,629</td>\n",
       "      <td>0%</td>\n",
       "      <td>1040</td>\n",
       "      <td>536</td>\n",
       "      <td>504</td>\n",
       "    </tr>\n",
       "  </tbody>\n",
       "</table>\n",
       "</div>"
      ],
      "text/plain": [
       "                                IntendedCollegeMajor TestTakers Percent  \\\n",
       "0  Agriculture, AgricultureOperations, and Relate...     24,913      1%   \n",
       "1                  Architecture and Related Services     28,988      2%   \n",
       "2         Area, Ethnic, Cultural, and Gender Studies      2,629      0%   \n",
       "\n",
       "   Total  ReadingWriting  Math  \n",
       "0    977             496   481  \n",
       "1   1047             520   527  \n",
       "2   1040             536   504  "
      ]
     },
     "execution_count": 181,
     "metadata": {},
     "output_type": "execute_result"
    }
   ],
   "source": [
    "sat19_major.info()\n",
    "sat19_major.head(3)"
   ]
  },
  {
   "cell_type": "markdown",
   "id": "23ac4a1f",
   "metadata": {},
   "source": [
    "Exploratory analysis of the SAT 2019 majors dataframe suggests that the data contained does not directly relate to the client challenge of identifying opportunities to improve participation on a State basis. We have chosen to park this dataframe until such time as it is determined relevant."
   ]
  },
  {
   "cell_type": "code",
   "execution_count": 182,
   "id": "ba994e07",
   "metadata": {},
   "outputs": [
    {
     "name": "stdout",
     "output_type": "stream",
     "text": [
      "<class 'pandas.core.frame.DataFrame'>\n",
      "RangeIndex: 416 entries, 0 to 415\n",
      "Data columns (total 8 columns):\n",
      " #   Column                          Non-Null Count  Dtype \n",
      "---  ------                          --------------  ----- \n",
      " 0   School                          416 non-null    object\n",
      " 1   Test Optional?                  416 non-null    object\n",
      " 2   Applies to Class Year(s)        390 non-null    object\n",
      " 3   Policy Details                  416 non-null    object\n",
      " 4   Number of Applicants            416 non-null    int64 \n",
      " 5   Accept Rate                     416 non-null    object\n",
      " 6   SAT Total 25th-75th Percentile  416 non-null    object\n",
      " 7   ACT Total 25th-75th Percentile  416 non-null    object\n",
      "dtypes: int64(1), object(7)\n",
      "memory usage: 26.1+ KB\n"
     ]
    },
    {
     "data": {
      "text/html": [
       "<div>\n",
       "<style scoped>\n",
       "    .dataframe tbody tr th:only-of-type {\n",
       "        vertical-align: middle;\n",
       "    }\n",
       "\n",
       "    .dataframe tbody tr th {\n",
       "        vertical-align: top;\n",
       "    }\n",
       "\n",
       "    .dataframe thead th {\n",
       "        text-align: right;\n",
       "    }\n",
       "</style>\n",
       "<table border=\"1\" class=\"dataframe\">\n",
       "  <thead>\n",
       "    <tr style=\"text-align: right;\">\n",
       "      <th></th>\n",
       "      <th>School</th>\n",
       "      <th>Test Optional?</th>\n",
       "      <th>Applies to Class Year(s)</th>\n",
       "      <th>Policy Details</th>\n",
       "      <th>Number of Applicants</th>\n",
       "      <th>Accept Rate</th>\n",
       "      <th>SAT Total 25th-75th Percentile</th>\n",
       "      <th>ACT Total 25th-75th Percentile</th>\n",
       "    </tr>\n",
       "  </thead>\n",
       "  <tbody>\n",
       "    <tr>\n",
       "      <th>0</th>\n",
       "      <td>Stanford University</td>\n",
       "      <td>Yes</td>\n",
       "      <td>2021</td>\n",
       "      <td>Stanford has adopted a one-year test optional ...</td>\n",
       "      <td>47452</td>\n",
       "      <td>4.3%</td>\n",
       "      <td>1440-1570</td>\n",
       "      <td>32-35</td>\n",
       "    </tr>\n",
       "    <tr>\n",
       "      <th>1</th>\n",
       "      <td>Harvard College</td>\n",
       "      <td>Yes</td>\n",
       "      <td>2021</td>\n",
       "      <td>Harvard has adopted a one-year test optional p...</td>\n",
       "      <td>42749</td>\n",
       "      <td>4.7%</td>\n",
       "      <td>1460-1580</td>\n",
       "      <td>33-35</td>\n",
       "    </tr>\n",
       "    <tr>\n",
       "      <th>2</th>\n",
       "      <td>Princeton University</td>\n",
       "      <td>Yes</td>\n",
       "      <td>2021</td>\n",
       "      <td>Princeton has adopted a one-year test optional...</td>\n",
       "      <td>35370</td>\n",
       "      <td>5.5%</td>\n",
       "      <td>1440-1570</td>\n",
       "      <td>32-35</td>\n",
       "    </tr>\n",
       "  </tbody>\n",
       "</table>\n",
       "</div>"
      ],
      "text/plain": [
       "                 School Test Optional? Applies to Class Year(s)  \\\n",
       "0   Stanford University            Yes                     2021   \n",
       "1       Harvard College            Yes                     2021   \n",
       "2  Princeton University            Yes                     2021   \n",
       "\n",
       "                                      Policy Details  Number of Applicants  \\\n",
       "0  Stanford has adopted a one-year test optional ...                 47452   \n",
       "1  Harvard has adopted a one-year test optional p...                 42749   \n",
       "2  Princeton has adopted a one-year test optional...                 35370   \n",
       "\n",
       "  Accept Rate SAT Total 25th-75th Percentile ACT Total 25th-75th Percentile  \n",
       "0        4.3%                      1440-1570                          32-35  \n",
       "1        4.7%                      1460-1580                          33-35  \n",
       "2        5.5%                      1440-1570                          32-35  "
      ]
     },
     "execution_count": 182,
     "metadata": {},
     "output_type": "execute_result"
    }
   ],
   "source": [
    "test_req_by_college_19.info()\n",
    "test_req_by_college_19.head(3)"
   ]
  },
  {
   "cell_type": "markdown",
   "id": "9bc6b8d4",
   "metadata": {},
   "source": [
    "This data may be useful as we can use python to identify the home state of the university. Once the home state of the universities is identified, we can consider the impact of test requirements on partipation rates."
   ]
  },
  {
   "cell_type": "code",
   "execution_count": 183,
   "id": "93156cd5",
   "metadata": {},
   "outputs": [],
   "source": [
    "#import and set up Open Street Maps geocoder\n",
    "from geopy.geocoders import Nominatim\n",
    "\n",
    "geolocator = Nominatim(user_agent=\"GA&A\")\n",
    "\n",
    "def get_state(row):\n",
    "    try:\n",
    "        #The geolocator had trouble with a handful of schools. These rules catch those edge cases.\n",
    "        school = row['School']\n",
    "        if 'CUNY' in school or 'SUNY' in school or 'United States Merchant Maritime Academy' in school or 'Yeshiva University' in school or 'Marist College' in school or 'New School' in school:\n",
    "            return 'New York'\n",
    "        elif 'New Jersey' in school:\n",
    "            return 'New Jersey'\n",
    "        elif 'Trinity College (Hartford)' in school or 'University of Connecticut' in school or 'Fairfield University' in school:\n",
    "            return 'Connecticut'\n",
    "        elif 'Weber State' in school:\n",
    "            return 'Utah'\n",
    "        elif 'Queens University of Charlotte' in school:\n",
    "            return 'North Carolina'\n",
    "        elif 'Emerson College' in school:\n",
    "            return 'Massachusetts'\n",
    "        elif 'Franklin and Marshall College' in school or 'Washington and Jefferson College' in school:\n",
    "            return 'Pennsylvania'\n",
    "        elif 'Pepperdine University' in school or 'Thomas Aquinas College' in school:\n",
    "            return 'California'\n",
    "        elif 'University of Georgia' in school or 'Georgia Southern' in school:\n",
    "            return 'Georgia'\n",
    "        elif 'Luther College' in school:\n",
    "            return 'Iowa'\n",
    "        elif 'Northern Arizona' in school:\n",
    "            return 'Arizona'\n",
    "        elif 'University of Maine' in school:\n",
    "            return 'Maine'\n",
    "        elif 'Portland State' in school:\n",
    "            return 'Oregon'\n",
    "        elif 'University of Colorado' in school:\n",
    "            return 'Colorado'\n",
    "        #with edge cases addressed, we pass the remaining schools to the geocoder.\n",
    "        else:\n",
    "            location = geolocator.geocode(school, timeout=10)\n",
    "            if location is not None:\n",
    "                address = location.address\n",
    "                if ',' in address:\n",
    "                    state = address.split(',')[-3].strip()\n",
    "                    if 'Connecticut' in state:\n",
    "                        return 'Connecticut'\n",
    "                    else:\n",
    "                        return state\n",
    "    #provides error handling\n",
    "    except (AttributeError, GeocoderTimedOut):\n",
    "        return None\n",
    "\n",
    "#Stores States in the dataframe.\n",
    "test_req_by_college_19['State'] = test_req_by_college_19.apply(get_state, axis=1)"
   ]
  },
  {
   "cell_type": "code",
   "execution_count": 184,
   "id": "dcadb3b8",
   "metadata": {},
   "outputs": [
    {
     "name": "stdout",
     "output_type": "stream",
     "text": [
      "<class 'pandas.core.frame.DataFrame'>\n",
      "RangeIndex: 416 entries, 0 to 415\n",
      "Data columns (total 9 columns):\n",
      " #   Column                          Non-Null Count  Dtype \n",
      "---  ------                          --------------  ----- \n",
      " 0   School                          416 non-null    object\n",
      " 1   Test Optional?                  416 non-null    object\n",
      " 2   Applies to Class Year(s)        390 non-null    object\n",
      " 3   Policy Details                  416 non-null    object\n",
      " 4   Number of Applicants            416 non-null    int64 \n",
      " 5   Accept Rate                     416 non-null    object\n",
      " 6   SAT Total 25th-75th Percentile  416 non-null    object\n",
      " 7   ACT Total 25th-75th Percentile  416 non-null    object\n",
      " 8   State                           416 non-null    object\n",
      "dtypes: int64(1), object(8)\n",
      "memory usage: 29.4+ KB\n"
     ]
    }
   ],
   "source": [
    "test_req_by_college_19.info()"
   ]
  },
  {
   "cell_type": "code",
   "execution_count": 185,
   "id": "1651c61f",
   "metadata": {
    "scrolled": true
   },
   "outputs": [
    {
     "data": {
      "text/html": [
       "<div>\n",
       "<style scoped>\n",
       "    .dataframe tbody tr th:only-of-type {\n",
       "        vertical-align: middle;\n",
       "    }\n",
       "\n",
       "    .dataframe tbody tr th {\n",
       "        vertical-align: top;\n",
       "    }\n",
       "\n",
       "    .dataframe thead th {\n",
       "        text-align: right;\n",
       "    }\n",
       "</style>\n",
       "<table border=\"1\" class=\"dataframe\">\n",
       "  <thead>\n",
       "    <tr style=\"text-align: right;\">\n",
       "      <th></th>\n",
       "      <th>School</th>\n",
       "      <th>Test Optional?</th>\n",
       "      <th>Applies to Class Year(s)</th>\n",
       "      <th>Policy Details</th>\n",
       "      <th>Number of Applicants</th>\n",
       "      <th>Accept Rate</th>\n",
       "      <th>SAT Total 25th-75th Percentile</th>\n",
       "      <th>ACT Total 25th-75th Percentile</th>\n",
       "      <th>State</th>\n",
       "    </tr>\n",
       "  </thead>\n",
       "  <tbody>\n",
       "    <tr>\n",
       "      <th>0</th>\n",
       "      <td>Stanford University</td>\n",
       "      <td>Yes</td>\n",
       "      <td>2021</td>\n",
       "      <td>Stanford has adopted a one-year test optional ...</td>\n",
       "      <td>47452</td>\n",
       "      <td>4.3%</td>\n",
       "      <td>1440-1570</td>\n",
       "      <td>32-35</td>\n",
       "      <td>California</td>\n",
       "    </tr>\n",
       "    <tr>\n",
       "      <th>1</th>\n",
       "      <td>Harvard College</td>\n",
       "      <td>Yes</td>\n",
       "      <td>2021</td>\n",
       "      <td>Harvard has adopted a one-year test optional p...</td>\n",
       "      <td>42749</td>\n",
       "      <td>4.7%</td>\n",
       "      <td>1460-1580</td>\n",
       "      <td>33-35</td>\n",
       "      <td>Michigan</td>\n",
       "    </tr>\n",
       "    <tr>\n",
       "      <th>2</th>\n",
       "      <td>Princeton University</td>\n",
       "      <td>Yes</td>\n",
       "      <td>2021</td>\n",
       "      <td>Princeton has adopted a one-year test optional...</td>\n",
       "      <td>35370</td>\n",
       "      <td>5.5%</td>\n",
       "      <td>1440-1570</td>\n",
       "      <td>32-35</td>\n",
       "      <td>New Jersey</td>\n",
       "    </tr>\n",
       "    <tr>\n",
       "      <th>3</th>\n",
       "      <td>Columbia University</td>\n",
       "      <td>Yes</td>\n",
       "      <td>2021</td>\n",
       "      <td>Columbia has adopted a one-year test optional ...</td>\n",
       "      <td>40203</td>\n",
       "      <td>5.5%</td>\n",
       "      <td>1450-1560</td>\n",
       "      <td>33-35</td>\n",
       "      <td>New York</td>\n",
       "    </tr>\n",
       "    <tr>\n",
       "      <th>4</th>\n",
       "      <td>Yale University</td>\n",
       "      <td>Yes</td>\n",
       "      <td>2021</td>\n",
       "      <td>Yale has adopted a one-year test optional poli...</td>\n",
       "      <td>36844</td>\n",
       "      <td>6.1%</td>\n",
       "      <td>1460-1570</td>\n",
       "      <td>33-35</td>\n",
       "      <td>Connecticut</td>\n",
       "    </tr>\n",
       "    <tr>\n",
       "      <th>5</th>\n",
       "      <td>California Institute of Technology</td>\n",
       "      <td>Yes (TB)</td>\n",
       "      <td>2021 2022</td>\n",
       "      <td>CalTech has adopted a two-year Test Blind poli...</td>\n",
       "      <td>8367</td>\n",
       "      <td>6.4%</td>\n",
       "      <td>​​ 1530-1560</td>\n",
       "      <td>35-36</td>\n",
       "      <td>California</td>\n",
       "    </tr>\n",
       "    <tr>\n",
       "      <th>6</th>\n",
       "      <td>Massachusetts Institute of Technology</td>\n",
       "      <td>Yes</td>\n",
       "      <td>2021</td>\n",
       "      <td>MIT has adopted a one-year test optional polic...</td>\n",
       "      <td>21706</td>\n",
       "      <td>6.7%</td>\n",
       "      <td>​​ 1500-1570</td>\n",
       "      <td>34-36</td>\n",
       "      <td>Massachusetts</td>\n",
       "    </tr>\n",
       "    <tr>\n",
       "      <th>7</th>\n",
       "      <td>Brown University</td>\n",
       "      <td>Yes</td>\n",
       "      <td>2021</td>\n",
       "      <td>Brown has adopted a one-year test optional pol...</td>\n",
       "      <td>38674</td>\n",
       "      <td>7.1%</td>\n",
       "      <td>​​ 1440-1570</td>\n",
       "      <td>33-35</td>\n",
       "      <td>Rhode Island</td>\n",
       "    </tr>\n",
       "    <tr>\n",
       "      <th>8</th>\n",
       "      <td>University of Chicago</td>\n",
       "      <td>Yes</td>\n",
       "      <td>All / Permanent Policy</td>\n",
       "      <td>UChicago offers a test optional policy which a...</td>\n",
       "      <td>32283</td>\n",
       "      <td>7.3%</td>\n",
       "      <td>​​ 1490-1570</td>\n",
       "      <td>33-35</td>\n",
       "      <td>Illinois</td>\n",
       "    </tr>\n",
       "    <tr>\n",
       "      <th>9</th>\n",
       "      <td>Pomona College</td>\n",
       "      <td>Yes</td>\n",
       "      <td>2021</td>\n",
       "      <td>Pomona College has adopted a one-year test opt...</td>\n",
       "      <td>10401</td>\n",
       "      <td>7.4%</td>\n",
       "      <td>1390-1540</td>\n",
       "      <td>32-35</td>\n",
       "      <td>California</td>\n",
       "    </tr>\n",
       "  </tbody>\n",
       "</table>\n",
       "</div>"
      ],
      "text/plain": [
       "                                  School Test Optional?  \\\n",
       "0                    Stanford University            Yes   \n",
       "1                        Harvard College            Yes   \n",
       "2                   Princeton University            Yes   \n",
       "3                    Columbia University            Yes   \n",
       "4                        Yale University            Yes   \n",
       "5     California Institute of Technology       Yes (TB)   \n",
       "6  Massachusetts Institute of Technology            Yes   \n",
       "7                       Brown University            Yes   \n",
       "8                  University of Chicago            Yes   \n",
       "9                         Pomona College            Yes   \n",
       "\n",
       "  Applies to Class Year(s)                                     Policy Details  \\\n",
       "0                     2021  Stanford has adopted a one-year test optional ...   \n",
       "1                     2021  Harvard has adopted a one-year test optional p...   \n",
       "2                     2021  Princeton has adopted a one-year test optional...   \n",
       "3                     2021  Columbia has adopted a one-year test optional ...   \n",
       "4                     2021  Yale has adopted a one-year test optional poli...   \n",
       "5                2021 2022  CalTech has adopted a two-year Test Blind poli...   \n",
       "6                     2021  MIT has adopted a one-year test optional polic...   \n",
       "7                     2021  Brown has adopted a one-year test optional pol...   \n",
       "8   All / Permanent Policy  UChicago offers a test optional policy which a...   \n",
       "9                     2021  Pomona College has adopted a one-year test opt...   \n",
       "\n",
       "   Number of Applicants Accept Rate SAT Total 25th-75th Percentile  \\\n",
       "0                 47452        4.3%                      1440-1570   \n",
       "1                 42749        4.7%                      1460-1580   \n",
       "2                 35370        5.5%                      1440-1570   \n",
       "3                 40203        5.5%                      1450-1560   \n",
       "4                 36844        6.1%                      1460-1570   \n",
       "5                  8367        6.4%                   ​​ 1530-1560   \n",
       "6                 21706        6.7%                   ​​ 1500-1570   \n",
       "7                 38674        7.1%                   ​​ 1440-1570   \n",
       "8                 32283        7.3%                   ​​ 1490-1570   \n",
       "9                 10401        7.4%                      1390-1540   \n",
       "\n",
       "  ACT Total 25th-75th Percentile          State  \n",
       "0                          32-35     California  \n",
       "1                          33-35       Michigan  \n",
       "2                          32-35     New Jersey  \n",
       "3                          33-35       New York  \n",
       "4                          33-35    Connecticut  \n",
       "5                          35-36     California  \n",
       "6                          34-36  Massachusetts  \n",
       "7                          33-35   Rhode Island  \n",
       "8                          33-35       Illinois  \n",
       "9                          32-35     California  "
      ]
     },
     "execution_count": 185,
     "metadata": {},
     "output_type": "execute_result"
    }
   ],
   "source": [
    "test_req_by_college_19.head(10)"
   ]
  },
  {
   "cell_type": "code",
   "execution_count": 186,
   "id": "b15bb140",
   "metadata": {},
   "outputs": [
    {
     "name": "stdout",
     "output_type": "stream",
     "text": [
      "Empty DataFrame\n",
      "Columns: [School, Test Optional?, Applies to Class Year(s), Policy Details, Number of Applicants, Accept Rate, SAT Total 25th-75th Percentile, ACT Total 25th-75th Percentile, State]\n",
      "Index: []\n"
     ]
    }
   ],
   "source": [
    "#confirm nulls addressed.\n",
    "print(test_req_by_college_19[test_req_by_college_19['State'].isnull()])"
   ]
  },
  {
   "cell_type": "code",
   "execution_count": 187,
   "id": "a6c47ba4",
   "metadata": {},
   "outputs": [
    {
     "data": {
      "text/plain": [
       "52"
      ]
     },
     "execution_count": 187,
     "metadata": {},
     "output_type": "execute_result"
    }
   ],
   "source": [
    "test_req_by_college_19['State'].nunique()"
   ]
  },
  {
   "cell_type": "code",
   "execution_count": 188,
   "id": "74921e2a",
   "metadata": {},
   "outputs": [
    {
     "data": {
      "text/plain": [
       "array(['California', 'Michigan', 'New Jersey', 'New York', 'Connecticut',\n",
       "       'Massachusetts', 'Rhode Island', 'Illinois', 'Pennsylvania',\n",
       "       'New Hampshire', 'Maine', 'North Carolina', 'Tennessee',\n",
       "       'Maryland', 'Texas', 'Louisiana', 'Colorado',\n",
       "       'District of Columbia', 'Missouri', 'Vermont', 'Indiana',\n",
       "       'Georgia', 'Minnesota', 'Virginia', 'Iowa',\n",
       "       'CAL Fire Contract Counties', 'Florida', 'Ohio', 'Kentucky',\n",
       "       'Oregon', 'Oklahoma', 'New Mexico', 'South Carolina', 'Washington',\n",
       "       'Wisconsin', 'Alabama', 'Hawaii', 'Mississippi', 'Utah',\n",
       "       'Delaware', 'Arizona', 'Kansas', 'Nebraska', 'Arkansas', 'Idaho',\n",
       "       'Montana', 'Nevada', 'North Dakota', 'West Virginia', 'Alaska',\n",
       "       'South Dakota', 'Wyoming'], dtype=object)"
      ]
     },
     "execution_count": 188,
     "metadata": {},
     "output_type": "execute_result"
    }
   ],
   "source": [
    "test_req_by_college_19['State'].unique()"
   ]
  },
  {
   "cell_type": "code",
   "execution_count": 189,
   "id": "0e581c06",
   "metadata": {},
   "outputs": [
    {
     "data": {
      "text/plain": [
       "0         2021\n",
       "1         2021\n",
       "2         2021\n",
       "3         2021\n",
       "4         2021\n",
       "        ...   \n",
       "411    Current\n",
       "412    Current\n",
       "413    Current\n",
       "414    Current\n",
       "415    Current\n",
       "Name: Applies to Class Year(s), Length: 416, dtype: object"
      ]
     },
     "execution_count": 189,
     "metadata": {},
     "output_type": "execute_result"
    }
   ],
   "source": [
    "# For the sake of completeness we have filled the null values in Applies to Class Year(s) with 'Current'.\n",
    "# The null values all referred to Schools where testing was required (Test Optional? = 'No') and therefore we\n",
    "# have nominally identified these policies as 'Current'.\n",
    "# Based on past research in this area, our operating hypothesis is that a policy announcement has more impact than\n",
    "# it's date of implementation when related to tertiary admissions. As such, we have parked a descriptive value in \n",
    "# place of nulls that we can convert later if we develop and alternative hypothesis requiring this data.\n",
    "test_req_by_college_19['Applies to Class Year(s)'].fillna('Current')"
   ]
  },
  {
   "cell_type": "code",
   "execution_count": 190,
   "id": "2cef7c72",
   "metadata": {},
   "outputs": [
    {
     "data": {
      "text/html": [
       "<div>\n",
       "<style scoped>\n",
       "    .dataframe tbody tr th:only-of-type {\n",
       "        vertical-align: middle;\n",
       "    }\n",
       "\n",
       "    .dataframe tbody tr th {\n",
       "        vertical-align: top;\n",
       "    }\n",
       "\n",
       "    .dataframe thead th {\n",
       "        text-align: right;\n",
       "    }\n",
       "</style>\n",
       "<table border=\"1\" class=\"dataframe\">\n",
       "  <thead>\n",
       "    <tr style=\"text-align: right;\">\n",
       "      <th></th>\n",
       "      <th>Percent Insititutions Test Optional</th>\n",
       "    </tr>\n",
       "    <tr>\n",
       "      <th>State</th>\n",
       "      <th></th>\n",
       "    </tr>\n",
       "  </thead>\n",
       "  <tbody>\n",
       "    <tr>\n",
       "      <th>Alabama</th>\n",
       "      <td>0.750000</td>\n",
       "    </tr>\n",
       "    <tr>\n",
       "      <th>Alaska</th>\n",
       "      <td>1.000000</td>\n",
       "    </tr>\n",
       "    <tr>\n",
       "      <th>Arizona</th>\n",
       "      <td>1.000000</td>\n",
       "    </tr>\n",
       "    <tr>\n",
       "      <th>Arkansas</th>\n",
       "      <td>1.000000</td>\n",
       "    </tr>\n",
       "    <tr>\n",
       "      <th>CAL Fire Contract Counties</th>\n",
       "      <td>1.000000</td>\n",
       "    </tr>\n",
       "    <tr>\n",
       "      <th>California</th>\n",
       "      <td>0.980000</td>\n",
       "    </tr>\n",
       "    <tr>\n",
       "      <th>Colorado</th>\n",
       "      <td>0.833333</td>\n",
       "    </tr>\n",
       "    <tr>\n",
       "      <th>Connecticut</th>\n",
       "      <td>1.000000</td>\n",
       "    </tr>\n",
       "    <tr>\n",
       "      <th>Delaware</th>\n",
       "      <td>1.000000</td>\n",
       "    </tr>\n",
       "    <tr>\n",
       "      <th>District of Columbia</th>\n",
       "      <td>0.666667</td>\n",
       "    </tr>\n",
       "    <tr>\n",
       "      <th>Florida</th>\n",
       "      <td>0.300000</td>\n",
       "    </tr>\n",
       "    <tr>\n",
       "      <th>Georgia</th>\n",
       "      <td>0.916667</td>\n",
       "    </tr>\n",
       "    <tr>\n",
       "      <th>Hawaii</th>\n",
       "      <td>1.000000</td>\n",
       "    </tr>\n",
       "    <tr>\n",
       "      <th>Idaho</th>\n",
       "      <td>1.000000</td>\n",
       "    </tr>\n",
       "    <tr>\n",
       "      <th>Illinois</th>\n",
       "      <td>1.000000</td>\n",
       "    </tr>\n",
       "    <tr>\n",
       "      <th>Indiana</th>\n",
       "      <td>1.000000</td>\n",
       "    </tr>\n",
       "    <tr>\n",
       "      <th>Iowa</th>\n",
       "      <td>1.000000</td>\n",
       "    </tr>\n",
       "    <tr>\n",
       "      <th>Kansas</th>\n",
       "      <td>1.000000</td>\n",
       "    </tr>\n",
       "    <tr>\n",
       "      <th>Kentucky</th>\n",
       "      <td>1.000000</td>\n",
       "    </tr>\n",
       "    <tr>\n",
       "      <th>Louisiana</th>\n",
       "      <td>0.666667</td>\n",
       "    </tr>\n",
       "    <tr>\n",
       "      <th>Maine</th>\n",
       "      <td>1.000000</td>\n",
       "    </tr>\n",
       "    <tr>\n",
       "      <th>Maryland</th>\n",
       "      <td>0.888889</td>\n",
       "    </tr>\n",
       "    <tr>\n",
       "      <th>Massachusetts</th>\n",
       "      <td>1.000000</td>\n",
       "    </tr>\n",
       "    <tr>\n",
       "      <th>Michigan</th>\n",
       "      <td>0.916667</td>\n",
       "    </tr>\n",
       "    <tr>\n",
       "      <th>Minnesota</th>\n",
       "      <td>1.000000</td>\n",
       "    </tr>\n",
       "    <tr>\n",
       "      <th>Mississippi</th>\n",
       "      <td>0.666667</td>\n",
       "    </tr>\n",
       "    <tr>\n",
       "      <th>Missouri</th>\n",
       "      <td>1.000000</td>\n",
       "    </tr>\n",
       "    <tr>\n",
       "      <th>Montana</th>\n",
       "      <td>1.000000</td>\n",
       "    </tr>\n",
       "    <tr>\n",
       "      <th>Nebraska</th>\n",
       "      <td>1.000000</td>\n",
       "    </tr>\n",
       "    <tr>\n",
       "      <th>Nevada</th>\n",
       "      <td>1.000000</td>\n",
       "    </tr>\n",
       "    <tr>\n",
       "      <th>New Hampshire</th>\n",
       "      <td>1.000000</td>\n",
       "    </tr>\n",
       "    <tr>\n",
       "      <th>New Jersey</th>\n",
       "      <td>1.000000</td>\n",
       "    </tr>\n",
       "    <tr>\n",
       "      <th>New Mexico</th>\n",
       "      <td>1.000000</td>\n",
       "    </tr>\n",
       "    <tr>\n",
       "      <th>New York</th>\n",
       "      <td>0.928571</td>\n",
       "    </tr>\n",
       "    <tr>\n",
       "      <th>North Carolina</th>\n",
       "      <td>1.000000</td>\n",
       "    </tr>\n",
       "    <tr>\n",
       "      <th>North Dakota</th>\n",
       "      <td>1.000000</td>\n",
       "    </tr>\n",
       "    <tr>\n",
       "      <th>Ohio</th>\n",
       "      <td>1.000000</td>\n",
       "    </tr>\n",
       "    <tr>\n",
       "      <th>Oklahoma</th>\n",
       "      <td>1.000000</td>\n",
       "    </tr>\n",
       "    <tr>\n",
       "      <th>Oregon</th>\n",
       "      <td>1.000000</td>\n",
       "    </tr>\n",
       "    <tr>\n",
       "      <th>Pennsylvania</th>\n",
       "      <td>1.000000</td>\n",
       "    </tr>\n",
       "    <tr>\n",
       "      <th>Rhode Island</th>\n",
       "      <td>1.000000</td>\n",
       "    </tr>\n",
       "    <tr>\n",
       "      <th>South Carolina</th>\n",
       "      <td>0.857143</td>\n",
       "    </tr>\n",
       "    <tr>\n",
       "      <th>South Dakota</th>\n",
       "      <td>0.000000</td>\n",
       "    </tr>\n",
       "    <tr>\n",
       "      <th>Tennessee</th>\n",
       "      <td>1.000000</td>\n",
       "    </tr>\n",
       "    <tr>\n",
       "      <th>Texas</th>\n",
       "      <td>0.904762</td>\n",
       "    </tr>\n",
       "    <tr>\n",
       "      <th>Utah</th>\n",
       "      <td>1.000000</td>\n",
       "    </tr>\n",
       "    <tr>\n",
       "      <th>Vermont</th>\n",
       "      <td>1.000000</td>\n",
       "    </tr>\n",
       "    <tr>\n",
       "      <th>Virginia</th>\n",
       "      <td>1.000000</td>\n",
       "    </tr>\n",
       "    <tr>\n",
       "      <th>Washington</th>\n",
       "      <td>1.000000</td>\n",
       "    </tr>\n",
       "    <tr>\n",
       "      <th>West Virginia</th>\n",
       "      <td>1.000000</td>\n",
       "    </tr>\n",
       "    <tr>\n",
       "      <th>Wisconsin</th>\n",
       "      <td>0.857143</td>\n",
       "    </tr>\n",
       "  </tbody>\n",
       "</table>\n",
       "</div>"
      ],
      "text/plain": [
       "                            Percent Insititutions Test Optional\n",
       "State                                                          \n",
       "Alabama                                                0.750000\n",
       "Alaska                                                 1.000000\n",
       "Arizona                                                1.000000\n",
       "Arkansas                                               1.000000\n",
       "CAL Fire Contract Counties                             1.000000\n",
       "California                                             0.980000\n",
       "Colorado                                               0.833333\n",
       "Connecticut                                            1.000000\n",
       "Delaware                                               1.000000\n",
       "District of Columbia                                   0.666667\n",
       "Florida                                                0.300000\n",
       "Georgia                                                0.916667\n",
       "Hawaii                                                 1.000000\n",
       "Idaho                                                  1.000000\n",
       "Illinois                                               1.000000\n",
       "Indiana                                                1.000000\n",
       "Iowa                                                   1.000000\n",
       "Kansas                                                 1.000000\n",
       "Kentucky                                               1.000000\n",
       "Louisiana                                              0.666667\n",
       "Maine                                                  1.000000\n",
       "Maryland                                               0.888889\n",
       "Massachusetts                                          1.000000\n",
       "Michigan                                               0.916667\n",
       "Minnesota                                              1.000000\n",
       "Mississippi                                            0.666667\n",
       "Missouri                                               1.000000\n",
       "Montana                                                1.000000\n",
       "Nebraska                                               1.000000\n",
       "Nevada                                                 1.000000\n",
       "New Hampshire                                          1.000000\n",
       "New Jersey                                             1.000000\n",
       "New Mexico                                             1.000000\n",
       "New York                                               0.928571\n",
       "North Carolina                                         1.000000\n",
       "North Dakota                                           1.000000\n",
       "Ohio                                                   1.000000\n",
       "Oklahoma                                               1.000000\n",
       "Oregon                                                 1.000000\n",
       "Pennsylvania                                           1.000000\n",
       "Rhode Island                                           1.000000\n",
       "South Carolina                                         0.857143\n",
       "South Dakota                                           0.000000\n",
       "Tennessee                                              1.000000\n",
       "Texas                                                  0.904762\n",
       "Utah                                                   1.000000\n",
       "Vermont                                                1.000000\n",
       "Virginia                                               1.000000\n",
       "Washington                                             1.000000\n",
       "West Virginia                                          1.000000\n",
       "Wisconsin                                              0.857143"
      ]
     },
     "execution_count": 190,
     "metadata": {},
     "output_type": "execute_result"
    }
   ],
   "source": [
    "# Group the dataframe by 'State' and calculate the percentage of entries that were 'Yes' under 'Test Optional?'\n",
    "state_optionality = test_req_by_college_19.groupby('State')['Test Optional?'].apply(lambda x: (x != 'No').mean())\n",
    "state_optionality.name = 'Percent Insititutions Test Optional'\n",
    "optional = pd.DataFrame(state_optionality)\n",
    "\n",
    "optional.head(51)"
   ]
  },
  {
   "cell_type": "markdown",
   "id": "471c2161",
   "metadata": {},
   "source": [
    "### 4.Joining Datasets\n",
    "<p> Having identified and cleaned the relevant datasets, we will now join the primary participation related data.</p>"
   ]
  },
  {
   "cell_type": "code",
   "execution_count": 191,
   "id": "9cc98e9b",
   "metadata": {},
   "outputs": [],
   "source": [
    "# function to rename the columns (other than State) in each participation data frame to \n",
    "# include the name of the original dataframe for identification post merger\n",
    "def rename_fields(df, name):\n",
    "    for col in df.columns:\n",
    "        if col != 'State':\n",
    "            new_col = col + '_' + name\n",
    "            df = df.rename(columns={col: new_col})\n",
    "    return df\n",
    "\n",
    "comp17 = rename_fields(comp17,'comp17')\n",
    "comp18 = rename_fields(comp18, 'comp18')\n",
    "comp19 = rename_fields(comp19, 'comp19')\n",
    "sat17 = rename_fields(sat17, 'sat17')\n",
    "sat18 = rename_fields(sat18, 'sat18')\n",
    "sat19 = rename_fields(sat19, 'sat19')"
   ]
  },
  {
   "cell_type": "code",
   "execution_count": 192,
   "id": "329ba39e",
   "metadata": {},
   "outputs": [],
   "source": [
    "participation = pd.merge(comp17,comp18, how = 'left', left_on='State', right_on='State')\n",
    "participation = pd.merge(participation, comp19, how = 'left', left_on='State', right_on='State')\n",
    "participation = pd.merge(participation, sat17, how = 'left', left_on='State', right_on='State')\n",
    "participation = pd.merge(participation, sat18, how = 'left', left_on='State', right_on='State')\n",
    "participation = pd.merge(participation, sat19, how = 'left', left_on='State', right_on='State')\n",
    "participation = pd.merge(participation, optional, how ='left', left_on='State', right_on='State')"
   ]
  },
  {
   "cell_type": "code",
   "execution_count": 193,
   "id": "8ab34b2e",
   "metadata": {},
   "outputs": [
    {
     "name": "stdout",
     "output_type": "stream",
     "text": [
      "<class 'pandas.core.frame.DataFrame'>\n",
      "Int64Index: 52 entries, 0 to 51\n",
      "Data columns (total 24 columns):\n",
      " #   Column                                    Non-Null Count  Dtype  \n",
      "---  ------                                    --------------  -----  \n",
      " 0   State                                     52 non-null     object \n",
      " 1   Participation_comp17                      52 non-null     float64\n",
      " 2   English_comp17                            52 non-null     float64\n",
      " 3   Math_comp17                               52 non-null     float64\n",
      " 4   Reading_comp17                            52 non-null     float64\n",
      " 5   Science_comp17                            52 non-null     float64\n",
      " 6   Composite_comp17                          52 non-null     float64\n",
      " 7   Participation_comp18                      50 non-null     float64\n",
      " 8   Composite_comp18                          50 non-null     float64\n",
      " 9   Participation_comp19                      52 non-null     float64\n",
      " 10  Composite_comp19                          52 non-null     float64\n",
      " 11  Participation_sat17                       51 non-null     float64\n",
      " 12  Evidence-Based Reading and Writing_sat17  51 non-null     float64\n",
      " 13  Math_sat17                                51 non-null     float64\n",
      " 14  Total_sat17                               51 non-null     float64\n",
      " 15  Participation_sat18                       51 non-null     float64\n",
      " 16  Evidence-Based Reading and Writing_sat18  51 non-null     float64\n",
      " 17  Math_sat18                                51 non-null     float64\n",
      " 18  Total_sat18                               51 non-null     float64\n",
      " 19  Participation Rate_sat19                  51 non-null     float64\n",
      " 20  EBRW_sat19                                51 non-null     float64\n",
      " 21  Math_sat19                                51 non-null     float64\n",
      " 22  Total_sat19                               51 non-null     float64\n",
      " 23  Percent Insititutions Test Optional       51 non-null     float64\n",
      "dtypes: float64(23), object(1)\n",
      "memory usage: 10.2+ KB\n"
     ]
    }
   ],
   "source": [
    "participation.info()"
   ]
  },
  {
   "cell_type": "code",
   "execution_count": 194,
   "id": "c67f0a1c",
   "metadata": {},
   "outputs": [
    {
     "data": {
      "text/html": [
       "<div>\n",
       "<style scoped>\n",
       "    .dataframe tbody tr th:only-of-type {\n",
       "        vertical-align: middle;\n",
       "    }\n",
       "\n",
       "    .dataframe tbody tr th {\n",
       "        vertical-align: top;\n",
       "    }\n",
       "\n",
       "    .dataframe thead th {\n",
       "        text-align: right;\n",
       "    }\n",
       "</style>\n",
       "<table border=\"1\" class=\"dataframe\">\n",
       "  <thead>\n",
       "    <tr style=\"text-align: right;\">\n",
       "      <th></th>\n",
       "      <th>State</th>\n",
       "      <th>Participation_comp17</th>\n",
       "      <th>English_comp17</th>\n",
       "      <th>Math_comp17</th>\n",
       "      <th>Reading_comp17</th>\n",
       "      <th>Science_comp17</th>\n",
       "      <th>Composite_comp17</th>\n",
       "      <th>Participation_comp18</th>\n",
       "      <th>Composite_comp18</th>\n",
       "      <th>Participation_comp19</th>\n",
       "      <th>...</th>\n",
       "      <th>Total_sat17</th>\n",
       "      <th>Participation_sat18</th>\n",
       "      <th>Evidence-Based Reading and Writing_sat18</th>\n",
       "      <th>Math_sat18</th>\n",
       "      <th>Total_sat18</th>\n",
       "      <th>Participation Rate_sat19</th>\n",
       "      <th>EBRW_sat19</th>\n",
       "      <th>Math_sat19</th>\n",
       "      <th>Total_sat19</th>\n",
       "      <th>Percent Insititutions Test Optional</th>\n",
       "    </tr>\n",
       "  </thead>\n",
       "  <tbody>\n",
       "    <tr>\n",
       "      <th>0</th>\n",
       "      <td>National</td>\n",
       "      <td>0.60</td>\n",
       "      <td>20.3</td>\n",
       "      <td>20.7</td>\n",
       "      <td>21.4</td>\n",
       "      <td>21.0</td>\n",
       "      <td>21.0</td>\n",
       "      <td>NaN</td>\n",
       "      <td>NaN</td>\n",
       "      <td>0.52</td>\n",
       "      <td>...</td>\n",
       "      <td>NaN</td>\n",
       "      <td>NaN</td>\n",
       "      <td>NaN</td>\n",
       "      <td>NaN</td>\n",
       "      <td>NaN</td>\n",
       "      <td>NaN</td>\n",
       "      <td>NaN</td>\n",
       "      <td>NaN</td>\n",
       "      <td>NaN</td>\n",
       "      <td>NaN</td>\n",
       "    </tr>\n",
       "    <tr>\n",
       "      <th>1</th>\n",
       "      <td>Alabama</td>\n",
       "      <td>1.00</td>\n",
       "      <td>18.9</td>\n",
       "      <td>18.4</td>\n",
       "      <td>19.7</td>\n",
       "      <td>19.4</td>\n",
       "      <td>19.2</td>\n",
       "      <td>1.00</td>\n",
       "      <td>19.1</td>\n",
       "      <td>1.00</td>\n",
       "      <td>...</td>\n",
       "      <td>1165.0</td>\n",
       "      <td>0.06</td>\n",
       "      <td>595.0</td>\n",
       "      <td>571.0</td>\n",
       "      <td>1166.0</td>\n",
       "      <td>0.07</td>\n",
       "      <td>583.0</td>\n",
       "      <td>560.0</td>\n",
       "      <td>1143.0</td>\n",
       "      <td>0.75</td>\n",
       "    </tr>\n",
       "    <tr>\n",
       "      <th>2</th>\n",
       "      <td>Alaska</td>\n",
       "      <td>0.65</td>\n",
       "      <td>18.7</td>\n",
       "      <td>19.8</td>\n",
       "      <td>20.4</td>\n",
       "      <td>19.9</td>\n",
       "      <td>19.8</td>\n",
       "      <td>0.33</td>\n",
       "      <td>20.8</td>\n",
       "      <td>0.38</td>\n",
       "      <td>...</td>\n",
       "      <td>1080.0</td>\n",
       "      <td>0.43</td>\n",
       "      <td>562.0</td>\n",
       "      <td>544.0</td>\n",
       "      <td>1106.0</td>\n",
       "      <td>0.41</td>\n",
       "      <td>556.0</td>\n",
       "      <td>541.0</td>\n",
       "      <td>1097.0</td>\n",
       "      <td>1.00</td>\n",
       "    </tr>\n",
       "    <tr>\n",
       "      <th>3</th>\n",
       "      <td>Arizona</td>\n",
       "      <td>0.62</td>\n",
       "      <td>18.6</td>\n",
       "      <td>19.8</td>\n",
       "      <td>20.1</td>\n",
       "      <td>19.8</td>\n",
       "      <td>19.7</td>\n",
       "      <td>0.66</td>\n",
       "      <td>19.2</td>\n",
       "      <td>0.73</td>\n",
       "      <td>...</td>\n",
       "      <td>1116.0</td>\n",
       "      <td>0.29</td>\n",
       "      <td>577.0</td>\n",
       "      <td>572.0</td>\n",
       "      <td>1149.0</td>\n",
       "      <td>0.31</td>\n",
       "      <td>569.0</td>\n",
       "      <td>565.0</td>\n",
       "      <td>1134.0</td>\n",
       "      <td>1.00</td>\n",
       "    </tr>\n",
       "    <tr>\n",
       "      <th>4</th>\n",
       "      <td>Arkansas</td>\n",
       "      <td>1.00</td>\n",
       "      <td>18.9</td>\n",
       "      <td>19.0</td>\n",
       "      <td>19.7</td>\n",
       "      <td>19.5</td>\n",
       "      <td>19.4</td>\n",
       "      <td>1.00</td>\n",
       "      <td>19.4</td>\n",
       "      <td>1.00</td>\n",
       "      <td>...</td>\n",
       "      <td>1208.0</td>\n",
       "      <td>0.05</td>\n",
       "      <td>592.0</td>\n",
       "      <td>576.0</td>\n",
       "      <td>1169.0</td>\n",
       "      <td>0.06</td>\n",
       "      <td>582.0</td>\n",
       "      <td>559.0</td>\n",
       "      <td>1141.0</td>\n",
       "      <td>1.00</td>\n",
       "    </tr>\n",
       "  </tbody>\n",
       "</table>\n",
       "<p>5 rows × 24 columns</p>\n",
       "</div>"
      ],
      "text/plain": [
       "      State  Participation_comp17  English_comp17  Math_comp17  \\\n",
       "0  National                  0.60            20.3         20.7   \n",
       "1   Alabama                  1.00            18.9         18.4   \n",
       "2    Alaska                  0.65            18.7         19.8   \n",
       "3   Arizona                  0.62            18.6         19.8   \n",
       "4  Arkansas                  1.00            18.9         19.0   \n",
       "\n",
       "   Reading_comp17  Science_comp17  Composite_comp17  Participation_comp18  \\\n",
       "0            21.4            21.0              21.0                   NaN   \n",
       "1            19.7            19.4              19.2                  1.00   \n",
       "2            20.4            19.9              19.8                  0.33   \n",
       "3            20.1            19.8              19.7                  0.66   \n",
       "4            19.7            19.5              19.4                  1.00   \n",
       "\n",
       "   Composite_comp18  Participation_comp19  ...  Total_sat17  \\\n",
       "0               NaN                  0.52  ...          NaN   \n",
       "1              19.1                  1.00  ...       1165.0   \n",
       "2              20.8                  0.38  ...       1080.0   \n",
       "3              19.2                  0.73  ...       1116.0   \n",
       "4              19.4                  1.00  ...       1208.0   \n",
       "\n",
       "   Participation_sat18  Evidence-Based Reading and Writing_sat18  Math_sat18  \\\n",
       "0                  NaN                                       NaN         NaN   \n",
       "1                 0.06                                     595.0       571.0   \n",
       "2                 0.43                                     562.0       544.0   \n",
       "3                 0.29                                     577.0       572.0   \n",
       "4                 0.05                                     592.0       576.0   \n",
       "\n",
       "   Total_sat18  Participation Rate_sat19  EBRW_sat19  Math_sat19  Total_sat19  \\\n",
       "0          NaN                       NaN         NaN         NaN          NaN   \n",
       "1       1166.0                      0.07       583.0       560.0       1143.0   \n",
       "2       1106.0                      0.41       556.0       541.0       1097.0   \n",
       "3       1149.0                      0.31       569.0       565.0       1134.0   \n",
       "4       1169.0                      0.06       582.0       559.0       1141.0   \n",
       "\n",
       "   Percent Insititutions Test Optional  \n",
       "0                                  NaN  \n",
       "1                                 0.75  \n",
       "2                                 1.00  \n",
       "3                                 1.00  \n",
       "4                                 1.00  \n",
       "\n",
       "[5 rows x 24 columns]"
      ]
     },
     "execution_count": 194,
     "metadata": {},
     "output_type": "execute_result"
    }
   ],
   "source": [
    "participation.head()"
   ]
  },
  {
   "cell_type": "code",
   "execution_count": 195,
   "id": "6baa199a",
   "metadata": {},
   "outputs": [
    {
     "data": {
      "text/html": [
       "<div>\n",
       "<style scoped>\n",
       "    .dataframe tbody tr th:only-of-type {\n",
       "        vertical-align: middle;\n",
       "    }\n",
       "\n",
       "    .dataframe tbody tr th {\n",
       "        vertical-align: top;\n",
       "    }\n",
       "\n",
       "    .dataframe thead th {\n",
       "        text-align: right;\n",
       "    }\n",
       "</style>\n",
       "<table border=\"1\" class=\"dataframe\">\n",
       "  <thead>\n",
       "    <tr style=\"text-align: right;\">\n",
       "      <th></th>\n",
       "      <th>State</th>\n",
       "      <th>Participation_comp17</th>\n",
       "      <th>English_comp17</th>\n",
       "      <th>Math_comp17</th>\n",
       "      <th>Reading_comp17</th>\n",
       "      <th>Science_comp17</th>\n",
       "      <th>Composite_comp17</th>\n",
       "      <th>Participation_comp18</th>\n",
       "      <th>Composite_comp18</th>\n",
       "      <th>Participation_comp19</th>\n",
       "      <th>...</th>\n",
       "      <th>Total_sat17</th>\n",
       "      <th>Participation_sat18</th>\n",
       "      <th>Evidence-Based Reading and Writing_sat18</th>\n",
       "      <th>Math_sat18</th>\n",
       "      <th>Total_sat18</th>\n",
       "      <th>Participation Rate_sat19</th>\n",
       "      <th>EBRW_sat19</th>\n",
       "      <th>Math_sat19</th>\n",
       "      <th>Total_sat19</th>\n",
       "      <th>Percent Insititutions Test Optional</th>\n",
       "    </tr>\n",
       "  </thead>\n",
       "  <tbody>\n",
       "    <tr>\n",
       "      <th>1</th>\n",
       "      <td>Alabama</td>\n",
       "      <td>1.00</td>\n",
       "      <td>18.9</td>\n",
       "      <td>18.4</td>\n",
       "      <td>19.7</td>\n",
       "      <td>19.4</td>\n",
       "      <td>19.2</td>\n",
       "      <td>1.00</td>\n",
       "      <td>19.1</td>\n",
       "      <td>1.00</td>\n",
       "      <td>...</td>\n",
       "      <td>1165.0</td>\n",
       "      <td>0.06</td>\n",
       "      <td>595.0</td>\n",
       "      <td>571.0</td>\n",
       "      <td>1166.0</td>\n",
       "      <td>0.07</td>\n",
       "      <td>583.0</td>\n",
       "      <td>560.0</td>\n",
       "      <td>1143.0</td>\n",
       "      <td>0.75</td>\n",
       "    </tr>\n",
       "    <tr>\n",
       "      <th>2</th>\n",
       "      <td>Alaska</td>\n",
       "      <td>0.65</td>\n",
       "      <td>18.7</td>\n",
       "      <td>19.8</td>\n",
       "      <td>20.4</td>\n",
       "      <td>19.9</td>\n",
       "      <td>19.8</td>\n",
       "      <td>0.33</td>\n",
       "      <td>20.8</td>\n",
       "      <td>0.38</td>\n",
       "      <td>...</td>\n",
       "      <td>1080.0</td>\n",
       "      <td>0.43</td>\n",
       "      <td>562.0</td>\n",
       "      <td>544.0</td>\n",
       "      <td>1106.0</td>\n",
       "      <td>0.41</td>\n",
       "      <td>556.0</td>\n",
       "      <td>541.0</td>\n",
       "      <td>1097.0</td>\n",
       "      <td>1.00</td>\n",
       "    </tr>\n",
       "    <tr>\n",
       "      <th>3</th>\n",
       "      <td>Arizona</td>\n",
       "      <td>0.62</td>\n",
       "      <td>18.6</td>\n",
       "      <td>19.8</td>\n",
       "      <td>20.1</td>\n",
       "      <td>19.8</td>\n",
       "      <td>19.7</td>\n",
       "      <td>0.66</td>\n",
       "      <td>19.2</td>\n",
       "      <td>0.73</td>\n",
       "      <td>...</td>\n",
       "      <td>1116.0</td>\n",
       "      <td>0.29</td>\n",
       "      <td>577.0</td>\n",
       "      <td>572.0</td>\n",
       "      <td>1149.0</td>\n",
       "      <td>0.31</td>\n",
       "      <td>569.0</td>\n",
       "      <td>565.0</td>\n",
       "      <td>1134.0</td>\n",
       "      <td>1.00</td>\n",
       "    </tr>\n",
       "    <tr>\n",
       "      <th>4</th>\n",
       "      <td>Arkansas</td>\n",
       "      <td>1.00</td>\n",
       "      <td>18.9</td>\n",
       "      <td>19.0</td>\n",
       "      <td>19.7</td>\n",
       "      <td>19.5</td>\n",
       "      <td>19.4</td>\n",
       "      <td>1.00</td>\n",
       "      <td>19.4</td>\n",
       "      <td>1.00</td>\n",
       "      <td>...</td>\n",
       "      <td>1208.0</td>\n",
       "      <td>0.05</td>\n",
       "      <td>592.0</td>\n",
       "      <td>576.0</td>\n",
       "      <td>1169.0</td>\n",
       "      <td>0.06</td>\n",
       "      <td>582.0</td>\n",
       "      <td>559.0</td>\n",
       "      <td>1141.0</td>\n",
       "      <td>1.00</td>\n",
       "    </tr>\n",
       "    <tr>\n",
       "      <th>5</th>\n",
       "      <td>California</td>\n",
       "      <td>0.31</td>\n",
       "      <td>22.5</td>\n",
       "      <td>22.7</td>\n",
       "      <td>23.1</td>\n",
       "      <td>22.2</td>\n",
       "      <td>22.8</td>\n",
       "      <td>0.27</td>\n",
       "      <td>22.7</td>\n",
       "      <td>0.23</td>\n",
       "      <td>...</td>\n",
       "      <td>1055.0</td>\n",
       "      <td>0.60</td>\n",
       "      <td>540.0</td>\n",
       "      <td>536.0</td>\n",
       "      <td>1076.0</td>\n",
       "      <td>0.63</td>\n",
       "      <td>534.0</td>\n",
       "      <td>531.0</td>\n",
       "      <td>1065.0</td>\n",
       "      <td>0.98</td>\n",
       "    </tr>\n",
       "  </tbody>\n",
       "</table>\n",
       "<p>5 rows × 24 columns</p>\n",
       "</div>"
      ],
      "text/plain": [
       "        State  Participation_comp17  English_comp17  Math_comp17  \\\n",
       "1     Alabama                  1.00            18.9         18.4   \n",
       "2      Alaska                  0.65            18.7         19.8   \n",
       "3     Arizona                  0.62            18.6         19.8   \n",
       "4    Arkansas                  1.00            18.9         19.0   \n",
       "5  California                  0.31            22.5         22.7   \n",
       "\n",
       "   Reading_comp17  Science_comp17  Composite_comp17  Participation_comp18  \\\n",
       "1            19.7            19.4              19.2                  1.00   \n",
       "2            20.4            19.9              19.8                  0.33   \n",
       "3            20.1            19.8              19.7                  0.66   \n",
       "4            19.7            19.5              19.4                  1.00   \n",
       "5            23.1            22.2              22.8                  0.27   \n",
       "\n",
       "   Composite_comp18  Participation_comp19  ...  Total_sat17  \\\n",
       "1              19.1                  1.00  ...       1165.0   \n",
       "2              20.8                  0.38  ...       1080.0   \n",
       "3              19.2                  0.73  ...       1116.0   \n",
       "4              19.4                  1.00  ...       1208.0   \n",
       "5              22.7                  0.23  ...       1055.0   \n",
       "\n",
       "   Participation_sat18  Evidence-Based Reading and Writing_sat18  Math_sat18  \\\n",
       "1                 0.06                                     595.0       571.0   \n",
       "2                 0.43                                     562.0       544.0   \n",
       "3                 0.29                                     577.0       572.0   \n",
       "4                 0.05                                     592.0       576.0   \n",
       "5                 0.60                                     540.0       536.0   \n",
       "\n",
       "   Total_sat18  Participation Rate_sat19  EBRW_sat19  Math_sat19  Total_sat19  \\\n",
       "1       1166.0                      0.07       583.0       560.0       1143.0   \n",
       "2       1106.0                      0.41       556.0       541.0       1097.0   \n",
       "3       1149.0                      0.31       569.0       565.0       1134.0   \n",
       "4       1169.0                      0.06       582.0       559.0       1141.0   \n",
       "5       1076.0                      0.63       534.0       531.0       1065.0   \n",
       "\n",
       "   Percent Insititutions Test Optional  \n",
       "1                                 0.75  \n",
       "2                                 1.00  \n",
       "3                                 1.00  \n",
       "4                                 1.00  \n",
       "5                                 0.98  \n",
       "\n",
       "[5 rows x 24 columns]"
      ]
     },
     "execution_count": 195,
     "metadata": {},
     "output_type": "execute_result"
    }
   ],
   "source": [
    "#In our joined up dataframe, the 'National' data appears only for 2017 and 2019 competitor data, so has been dropped.\n",
    "participation = participation.drop(0)\n",
    "participation.head()"
   ]
  },
  {
   "cell_type": "code",
   "execution_count": 196,
   "id": "d7f29c22",
   "metadata": {},
   "outputs": [
    {
     "data": {
      "text/html": [
       "<div>\n",
       "<style scoped>\n",
       "    .dataframe tbody tr th:only-of-type {\n",
       "        vertical-align: middle;\n",
       "    }\n",
       "\n",
       "    .dataframe tbody tr th {\n",
       "        vertical-align: top;\n",
       "    }\n",
       "\n",
       "    .dataframe thead th {\n",
       "        text-align: right;\n",
       "    }\n",
       "</style>\n",
       "<table border=\"1\" class=\"dataframe\">\n",
       "  <thead>\n",
       "    <tr style=\"text-align: right;\">\n",
       "      <th></th>\n",
       "      <th>State</th>\n",
       "      <th>Participation_comp17</th>\n",
       "      <th>English_comp17</th>\n",
       "      <th>Math_comp17</th>\n",
       "      <th>Reading_comp17</th>\n",
       "      <th>Science_comp17</th>\n",
       "      <th>Composite_comp17</th>\n",
       "      <th>Participation_comp18</th>\n",
       "      <th>Composite_comp18</th>\n",
       "      <th>Participation_comp19</th>\n",
       "      <th>...</th>\n",
       "      <th>Total_sat17</th>\n",
       "      <th>Participation_sat18</th>\n",
       "      <th>Evidence-Based Reading and Writing_sat18</th>\n",
       "      <th>Math_sat18</th>\n",
       "      <th>Total_sat18</th>\n",
       "      <th>Participation Rate_sat19</th>\n",
       "      <th>EBRW_sat19</th>\n",
       "      <th>Math_sat19</th>\n",
       "      <th>Total_sat19</th>\n",
       "      <th>Percent Insititutions Test Optional</th>\n",
       "    </tr>\n",
       "  </thead>\n",
       "  <tbody>\n",
       "    <tr>\n",
       "      <th>47</th>\n",
       "      <td>Virginia</td>\n",
       "      <td>0.29</td>\n",
       "      <td>23.5</td>\n",
       "      <td>23.3</td>\n",
       "      <td>24.6</td>\n",
       "      <td>23.5</td>\n",
       "      <td>23.8</td>\n",
       "      <td>0.24</td>\n",
       "      <td>23.9</td>\n",
       "      <td>0.21</td>\n",
       "      <td>...</td>\n",
       "      <td>1102.0</td>\n",
       "      <td>0.68</td>\n",
       "      <td>567.0</td>\n",
       "      <td>550.0</td>\n",
       "      <td>1117.0</td>\n",
       "      <td>0.68</td>\n",
       "      <td>567.0</td>\n",
       "      <td>551.0</td>\n",
       "      <td>1119.0</td>\n",
       "      <td>1.000000</td>\n",
       "    </tr>\n",
       "    <tr>\n",
       "      <th>48</th>\n",
       "      <td>Washington</td>\n",
       "      <td>0.29</td>\n",
       "      <td>20.9</td>\n",
       "      <td>21.9</td>\n",
       "      <td>22.1</td>\n",
       "      <td>22.0</td>\n",
       "      <td>21.9</td>\n",
       "      <td>0.24</td>\n",
       "      <td>22.2</td>\n",
       "      <td>0.24</td>\n",
       "      <td>...</td>\n",
       "      <td>1075.0</td>\n",
       "      <td>0.69</td>\n",
       "      <td>543.0</td>\n",
       "      <td>538.0</td>\n",
       "      <td>1081.0</td>\n",
       "      <td>0.70</td>\n",
       "      <td>539.0</td>\n",
       "      <td>535.0</td>\n",
       "      <td>1074.0</td>\n",
       "      <td>1.000000</td>\n",
       "    </tr>\n",
       "    <tr>\n",
       "      <th>49</th>\n",
       "      <td>West Virginia</td>\n",
       "      <td>0.69</td>\n",
       "      <td>20.0</td>\n",
       "      <td>19.4</td>\n",
       "      <td>21.2</td>\n",
       "      <td>20.5</td>\n",
       "      <td>20.4</td>\n",
       "      <td>0.65</td>\n",
       "      <td>20.3</td>\n",
       "      <td>0.49</td>\n",
       "      <td>...</td>\n",
       "      <td>1086.0</td>\n",
       "      <td>0.28</td>\n",
       "      <td>513.0</td>\n",
       "      <td>486.0</td>\n",
       "      <td>999.0</td>\n",
       "      <td>0.99</td>\n",
       "      <td>483.0</td>\n",
       "      <td>460.0</td>\n",
       "      <td>943.0</td>\n",
       "      <td>1.000000</td>\n",
       "    </tr>\n",
       "    <tr>\n",
       "      <th>50</th>\n",
       "      <td>Wisconsin</td>\n",
       "      <td>1.00</td>\n",
       "      <td>19.7</td>\n",
       "      <td>20.4</td>\n",
       "      <td>20.6</td>\n",
       "      <td>20.9</td>\n",
       "      <td>20.5</td>\n",
       "      <td>1.00</td>\n",
       "      <td>20.5</td>\n",
       "      <td>1.00</td>\n",
       "      <td>...</td>\n",
       "      <td>1291.0</td>\n",
       "      <td>0.03</td>\n",
       "      <td>641.0</td>\n",
       "      <td>653.0</td>\n",
       "      <td>1294.0</td>\n",
       "      <td>0.03</td>\n",
       "      <td>635.0</td>\n",
       "      <td>648.0</td>\n",
       "      <td>1283.0</td>\n",
       "      <td>0.857143</td>\n",
       "    </tr>\n",
       "    <tr>\n",
       "      <th>51</th>\n",
       "      <td>Wyoming</td>\n",
       "      <td>1.00</td>\n",
       "      <td>19.4</td>\n",
       "      <td>19.8</td>\n",
       "      <td>20.8</td>\n",
       "      <td>20.6</td>\n",
       "      <td>20.2</td>\n",
       "      <td>1.00</td>\n",
       "      <td>20.0</td>\n",
       "      <td>1.00</td>\n",
       "      <td>...</td>\n",
       "      <td>1230.0</td>\n",
       "      <td>0.03</td>\n",
       "      <td>633.0</td>\n",
       "      <td>625.0</td>\n",
       "      <td>1257.0</td>\n",
       "      <td>0.03</td>\n",
       "      <td>623.0</td>\n",
       "      <td>615.0</td>\n",
       "      <td>1238.0</td>\n",
       "      <td>0.000000</td>\n",
       "    </tr>\n",
       "  </tbody>\n",
       "</table>\n",
       "<p>5 rows × 24 columns</p>\n",
       "</div>"
      ],
      "text/plain": [
       "            State  Participation_comp17  English_comp17  Math_comp17  \\\n",
       "47       Virginia                  0.29            23.5         23.3   \n",
       "48     Washington                  0.29            20.9         21.9   \n",
       "49  West Virginia                  0.69            20.0         19.4   \n",
       "50      Wisconsin                  1.00            19.7         20.4   \n",
       "51        Wyoming                  1.00            19.4         19.8   \n",
       "\n",
       "    Reading_comp17  Science_comp17  Composite_comp17  Participation_comp18  \\\n",
       "47            24.6            23.5              23.8                  0.24   \n",
       "48            22.1            22.0              21.9                  0.24   \n",
       "49            21.2            20.5              20.4                  0.65   \n",
       "50            20.6            20.9              20.5                  1.00   \n",
       "51            20.8            20.6              20.2                  1.00   \n",
       "\n",
       "    Composite_comp18  Participation_comp19  ...  Total_sat17  \\\n",
       "47              23.9                  0.21  ...       1102.0   \n",
       "48              22.2                  0.24  ...       1075.0   \n",
       "49              20.3                  0.49  ...       1086.0   \n",
       "50              20.5                  1.00  ...       1291.0   \n",
       "51              20.0                  1.00  ...       1230.0   \n",
       "\n",
       "    Participation_sat18  Evidence-Based Reading and Writing_sat18  Math_sat18  \\\n",
       "47                 0.68                                     567.0       550.0   \n",
       "48                 0.69                                     543.0       538.0   \n",
       "49                 0.28                                     513.0       486.0   \n",
       "50                 0.03                                     641.0       653.0   \n",
       "51                 0.03                                     633.0       625.0   \n",
       "\n",
       "    Total_sat18  Participation Rate_sat19  EBRW_sat19  Math_sat19  \\\n",
       "47       1117.0                      0.68       567.0       551.0   \n",
       "48       1081.0                      0.70       539.0       535.0   \n",
       "49        999.0                      0.99       483.0       460.0   \n",
       "50       1294.0                      0.03       635.0       648.0   \n",
       "51       1257.0                      0.03       623.0       615.0   \n",
       "\n",
       "    Total_sat19  Percent Insititutions Test Optional  \n",
       "47       1119.0                             1.000000  \n",
       "48       1074.0                             1.000000  \n",
       "49        943.0                             1.000000  \n",
       "50       1283.0                             0.857143  \n",
       "51       1238.0                             0.000000  \n",
       "\n",
       "[5 rows x 24 columns]"
      ]
     },
     "execution_count": 196,
     "metadata": {},
     "output_type": "execute_result"
    }
   ],
   "source": [
    "participation.tail()"
   ]
  },
  {
   "cell_type": "code",
   "execution_count": 197,
   "id": "96c98a1d",
   "metadata": {},
   "outputs": [
    {
     "name": "stdout",
     "output_type": "stream",
     "text": [
      "0\n"
     ]
    }
   ],
   "source": [
    "#There are also some null fields in comp18 where one State appears to have not been included. \n",
    "# We will fill these with their equivalent median participation based on 2017 and 2019 data.\n",
    "median_comp = participation[['Participation_comp17', 'Participation_comp19']].median(axis=1)\n",
    "participation['Participation_comp18'].fillna(median_comp, inplace=True)\n",
    "print(participation['Participation_comp18'].isnull().sum())"
   ]
  },
  {
   "cell_type": "markdown",
   "id": "313d9215",
   "metadata": {},
   "source": [
    "### 5. Correlate participation rates in SAT tests with other data points identified.\n",
    "<p> With the single dataframe <b>'participation'</b> created, we will correlate SAT participation rates with other data points identified, including:</p>\n",
    "<li> Contemporary ACT participation rates </li>\n",
    "<li> Percentage of major Schools in the State that do not require test scores such as SAT or ACT</li>"
   ]
  },
  {
   "cell_type": "code",
   "execution_count": 198,
   "id": "bbbbb103",
   "metadata": {},
   "outputs": [
    {
     "name": "stderr",
     "output_type": "stream",
     "text": [
      "/Users/michael/anaconda3/lib/python3.9/site-packages/pandas/plotting/_matplotlib/core.py:1114: UserWarning: No data for colormapping provided via 'c'. Parameters 'cmap' will be ignored\n",
      "  scatter = ax.scatter(\n"
     ]
    },
    {
     "data": {
      "text/plain": [
       "Text(0.02, 1.0, 'Correlation = -0.84')"
      ]
     },
     "execution_count": 198,
     "metadata": {},
     "output_type": "execute_result"
    },
    {
     "data": {
      "image/png": "[encoded data removed]",
      "text/plain": [
       "<Figure size 640x480 with 1 Axes>"
      ]
     },
     "metadata": {},
     "output_type": "display_data"
    }
   ],
   "source": [
    "part17 = participation.plot(kind=\"scatter\", x=\"Participation_sat17\", y=\"Participation_comp17\", xlabel='SAT Participation by State in 2017', ylabel='ACT Participation by State in 2017', title=\"SAT vs ACT 2017 Participation\", c='#8255ff')\n",
    "# add a linear trend line to the plot\n",
    "z = np.polyfit(participation[\"Participation_sat17\"], participation[\"Participation_comp17\"], 1)\n",
    "p = np.poly1d(z)\n",
    "part17.plot(participation[\"Participation_sat17\"], p(participation[\"Participation_sat17\"]))\n",
    "\n",
    "# add correlation coefficient to the plot\n",
    "corr_coef = participation[[\"Participation_sat17\", \"Participation_comp17\"]].corr().iloc[0,1]\n",
    "part17.text(participation[\"Participation_sat17\"].min(), participation[\"Participation_comp17\"].max(), f'Correlation = {corr_coef:.2f}', fontsize=10)\n"
   ]
  },
  {
   "cell_type": "code",
   "execution_count": 199,
   "id": "7230f143",
   "metadata": {},
   "outputs": [
    {
     "name": "stderr",
     "output_type": "stream",
     "text": [
      "/Users/michael/anaconda3/lib/python3.9/site-packages/pandas/plotting/_matplotlib/core.py:1114: UserWarning: No data for colormapping provided via 'c'. Parameters 'cmap' will be ignored\n",
      "  scatter = ax.scatter(\n"
     ]
    },
    {
     "data": {
      "text/plain": [
       "Text(0.02, 1.0, 'Correlation = -0.87')"
      ]
     },
     "execution_count": 199,
     "metadata": {},
     "output_type": "execute_result"
    },
    {
     "data": {
      "image/png": "[encoded data removed]",
      "text/plain": [
       "<Figure size 640x480 with 1 Axes>"
      ]
     },
     "metadata": {},
     "output_type": "display_data"
    }
   ],
   "source": [
    "part18 = participation.plot(kind=\"scatter\", x=\"Participation_sat18\", y=\"Participation_comp18\", xlabel='SAT Participation by State in 2018', ylabel='ACT Participation by State in 2018', title=\"SAT vs ACT 2018 Participation\", c='#8255ff')\n",
    "z = np.polyfit(participation[\"Participation_sat18\"], participation[\"Participation_comp18\"], 1)\n",
    "p = np.poly1d(z)\n",
    "part18.plot(participation[\"Participation_sat18\"], p(participation[\"Participation_sat18\"]))\n",
    "\n",
    "# add correlation coefficient to the plot\n",
    "corr_coef = participation[[\"Participation_sat18\", \"Participation_comp18\"]].corr().iloc[0,1]\n",
    "part18.text(participation[\"Participation_sat18\"].min(), participation[\"Participation_comp18\"].max(), f'Correlation = {corr_coef:.2f}', fontsize=10)\n"
   ]
  },
  {
   "cell_type": "code",
   "execution_count": 200,
   "id": "3e24aaca",
   "metadata": {},
   "outputs": [
    {
     "name": "stderr",
     "output_type": "stream",
     "text": [
      "/Users/michael/anaconda3/lib/python3.9/site-packages/pandas/plotting/_matplotlib/core.py:1114: UserWarning: No data for colormapping provided via 'c'. Parameters 'cmap' will be ignored\n",
      "  scatter = ax.scatter(\n"
     ]
    },
    {
     "data": {
      "text/plain": [
       "Text(0.02, 1.0, 'Correlation = -0.87')"
      ]
     },
     "execution_count": 200,
     "metadata": {},
     "output_type": "execute_result"
    },
    {
     "data": {
      "image/png": "[encoded data removed]",
      "text/plain": [
       "<Figure size 640x480 with 1 Axes>"
      ]
     },
     "metadata": {},
     "output_type": "display_data"
    }
   ],
   "source": [
    "part19 = participation.plot(kind=\"scatter\", x=\"Participation Rate_sat19\", y=\"Participation_comp19\", xlabel='SAT Participation by State in 2019', ylabel='ACT Participation by State in 2019', title=\"SAT vs ACT 2019 Participation\", c='#8255ff')\n",
    "z = np.polyfit(participation[\"Participation Rate_sat19\"], participation[\"Participation_comp19\"], 1)\n",
    "p = np.poly1d(z)\n",
    "part19.plot(participation[\"Participation Rate_sat19\"], p(participation[\"Participation Rate_sat19\"]))\n",
    "\n",
    "# add correlation coefficient to the plot\n",
    "corr_coef = participation[[\"Participation Rate_sat19\", \"Participation_comp19\"]].corr().iloc[0,1]\n",
    "part19.text(participation[\"Participation Rate_sat19\"].min(), participation[\"Participation_comp19\"].max(), f'Correlation = {corr_coef:.2f}', fontsize=10)\n"
   ]
  },
  {
   "cell_type": "markdown",
   "id": "59175387",
   "metadata": {},
   "source": [
    "<p>In comparing the scatter plots and their linear trend lines, the data has shown a <b>strong negative correlation</b> between participation in the SAT and participation in the ACT. In 2017 this was a negative correlation of -0.84, and this increased to -0.87 in 2018 and 2019.</p>\n",
    "<p> This suggests that State's may have a strong preference for one exam or the other. For The College Board, this means that they may need to pursue a competitive strategy in winning State's over from the ACT.</p>\n"
   ]
  },
  {
   "cell_type": "code",
   "execution_count": 201,
   "id": "d68377db",
   "metadata": {},
   "outputs": [
    {
     "name": "stderr",
     "output_type": "stream",
     "text": [
      "/Users/michael/anaconda3/lib/python3.9/site-packages/pandas/plotting/_matplotlib/core.py:1114: UserWarning: No data for colormapping provided via 'c'. Parameters 'cmap' will be ignored\n",
      "  scatter = ax.scatter(\n"
     ]
    },
    {
     "data": {
      "text/plain": [
       "Text(0.02, 1.0, 'Correlation = 0.15')"
      ]
     },
     "execution_count": 201,
     "metadata": {},
     "output_type": "execute_result"
    },
    {
     "data": {
      "image/png": "[encoded data removed]",
      "text/plain": [
       "<Figure size 640x480 with 1 Axes>"
      ]
     },
     "metadata": {},
     "output_type": "display_data"
    }
   ],
   "source": [
    "part19 = participation.plot(kind=\"scatter\", x=\"Participation Rate_sat19\", y=\"Percent Insititutions Test Optional\", xlabel='SAT Participation by State in 2019', ylabel='% of Insititutions Test Scores Optional(1.00 = 100%)', title=\"SAT Participation vs Prominent Colleges with Testing Optional Policies\", c='#8255ff')\n",
    "z = np.polyfit(participation[\"Participation Rate_sat19\"], participation[\"Percent Insititutions Test Optional\"], 1)\n",
    "p = np.poly1d(z)\n",
    "part19.plot(participation[\"Participation Rate_sat19\"], p(participation[\"Participation Rate_sat19\"]))\n",
    "\n",
    "# add correlation coefficient to the plot\n",
    "corr_coef = participation.corr().loc[\"Participation Rate_sat19\", \"Percent Insititutions Test Optional\"]\n",
    "part19.text(participation[\"Participation Rate_sat19\"].min(), participation[\"Percent Insititutions Test Optional\"].max(), f'Correlation = {corr_coef:.2f}', fontsize=10)\n"
   ]
  },
  {
   "cell_type": "markdown",
   "id": "6c221c0b",
   "metadata": {},
   "source": [
    "<p>The above graph compares SAT participation in 2019 to the percentage of Prominent Colleges in each State where Testing is not required in the admission process. It generated a <b>weak positive corelation of 0.14</b>. While there is some consideration around the data, with the Testing Optional policies relating to a range of class years including 2019. This data suggests there may not be a major impact on the testing policies of a State's prominent colleges and the level of SAT participation in that State.</p>\n",
    "<p>For the College Board, this means investing in activities that promote colleges to adopt policies requiring applicants to complete testing may not deliver returns in terms of the increased participation rates sought.</p>"
   ]
  },
  {
   "cell_type": "markdown",
   "id": "b338576c",
   "metadata": {},
   "source": [
    "### 6. Explore and compare the chosen State's situation with others.\n",
    "<p>For the purposes of further investigation, we have chosen <b>Alabama</b> for further investigation. Alabama is a southern US state and has among the lowest SAT participation in the country...but it has been growing!</p>"
   ]
  },
  {
   "cell_type": "code",
   "execution_count": 202,
   "id": "5eef5a5b",
   "metadata": {},
   "outputs": [
    {
     "data": {
      "text/plain": [
       "Text(0, 0.5, 'Year')"
      ]
     },
     "execution_count": 202,
     "metadata": {},
     "output_type": "execute_result"
    },
    {
     "data": {
      "image/png": "[encoded data removed]",
      "text/plain": [
       "<Figure size 640x480 with 1 Axes>"
      ]
     },
     "metadata": {},
     "output_type": "display_data"
    }
   ],
   "source": [
    "# Select the rows where the 'State' column is 'Alabama'\n",
    "alabama_data = participation[participation['State'] == 'Alabama']\n",
    "\n",
    "# Extract the participation rates for the three years\n",
    "sat17_participation = alabama_data['Participation_sat17'].values[0]\n",
    "sat18_participation = alabama_data['Participation_sat18'].values[0]\n",
    "sat19_participation = alabama_data['Participation Rate_sat19'].values[0]\n",
    "\n",
    "# Create a new dataframe with just the participation rates for Alabama\n",
    "alabama_sat_frame = pd.DataFrame({'Year': ['2017', '2018', '2019'],\n",
    "                     'Participation Rate': [sat17_participation, sat18_participation, sat19_participation]})\n",
    "\n",
    "# Create the horizontal bar chart\n",
    "ax = alabama_sat_frame.plot.bar(x='Year', y='Participation Rate', color='blue')\n",
    "ax.set_title('Alabama SAT Participation Rates')\n",
    "ax.set_xlabel('Participation Rate')\n",
    "ax.set_ylabel('Year')"
   ]
  },
  {
   "cell_type": "code",
   "execution_count": 203,
   "id": "b93b8d34",
   "metadata": {},
   "outputs": [
    {
     "data": {
      "text/plain": [
       "Text(0, 0.5, 'Year')"
      ]
     },
     "execution_count": 203,
     "metadata": {},
     "output_type": "execute_result"
    },
    {
     "data": {
      "image/png": "[encoded data removed]",
      "text/plain": [
       "<Figure size 640x480 with 1 Axes>"
      ]
     },
     "metadata": {},
     "output_type": "display_data"
    }
   ],
   "source": [
    "# Extract the participation rates for the three years\n",
    "act17_participation = alabama_data['Participation_comp17'].values[0]\n",
    "act18_participation = alabama_data['Participation_comp18'].values[0]\n",
    "act19_participation = alabama_data['Participation_comp19'].values[0]\n",
    "\n",
    "# Create a new dataframe with just the participation rates for Alabama\n",
    "alabama_both_frame = pd.DataFrame({'Year': ['2017', '2018', '2019'],\n",
    "                     'SAT Participation Rate': [sat17_participation, sat18_participation, sat19_participation],\n",
    "                        'ACT Participation Rate':[act17_participation, act18_participation, act19_participation]})\n",
    "\n",
    "# Create the horizontal bar chart\n",
    "ax = alabama_both_frame.plot.bar(x='Year', y=['SAT Participation Rate', 'ACT Participation Rate'], color=['blue','red'])\n",
    "ax.set_title('Alabama Participation Rates: SAT vs ACT')\n",
    "ax.set_xlabel('Participation Rate')\n",
    "ax.set_ylabel('Year')"
   ]
  },
  {
   "cell_type": "markdown",
   "id": "83473ea1",
   "metadata": {},
   "source": [
    "However, while SAT has increased participation by 1% each year from 2017 to 2019, we can see that the participation rates for the competitor, ACT, are consistently much higher at 100%."
   ]
  },
  {
   "cell_type": "code",
   "execution_count": 204,
   "id": "44da784a",
   "metadata": {},
   "outputs": [
    {
     "data": {
      "text/plain": [
       "Text(-88.2, 22.3, 'Alabama: 0.05')"
      ]
     },
     "execution_count": 204,
     "metadata": {},
     "output_type": "execute_result"
    },
    {
     "data": {
      "image/png": "[encoded data removed]",
      "text/plain": [
       "<Figure size 2000x500 with 2 Axes>"
      ]
     },
     "metadata": {},
     "output_type": "display_data"
    }
   ],
   "source": [
    "import geopandas as gpd\n",
    "\n",
    "# Load the shapefile\n",
    "us_states = gpd.read_file('cb_2021_us_state_500k.shp')\n",
    "\n",
    "# Merge with the participation DataFrame\n",
    "\n",
    "participation_map = us_states.merge(participation, left_on='NAME', right_on='State')\n",
    "\n",
    "# Creates GeoDataFrame with just Alabama\n",
    "alabama = us_states[us_states['NAME'] == 'Alabama']\n",
    "\n",
    "\n",
    "#creates cmap\n",
    "ax = participation_map.plot(column='Participation_sat17', legend=True, figsize=(20,5), vmin=0, vmax=1)\n",
    "ax.set_xlim([-180, -60])\n",
    "ax.set_title('Comparison of SAT Participation in 2017')\n",
    "\n",
    "# Outlines Alabama\n",
    "alabama.plot(ax=ax, edgecolor='#fff', linewidth=2, facecolor='none')\n",
    "\n",
    "# Annotate the map with the value for Alabama\n",
    "alabama_value = participation_map.loc[participation_map['NAME'] == 'Alabama', 'Participation_sat17'].values[0]\n",
    "ax.annotate(f'Alabama: {alabama_value}', xy=(-88.2, 22.3), xycoords='data', color='black', fontsize=12)"
   ]
  },
  {
   "cell_type": "code",
   "execution_count": 205,
   "id": "2e23d9bf",
   "metadata": {},
   "outputs": [
    {
     "data": {
      "text/plain": [
       "Text(-88.2, 22.3, 'Alabama: 0.06')"
      ]
     },
     "execution_count": 205,
     "metadata": {},
     "output_type": "execute_result"
    },
    {
     "data": {
      "image/png": "[encoded data removed]",
      "text/plain": [
       "<Figure size 2000x500 with 2 Axes>"
      ]
     },
     "metadata": {},
     "output_type": "display_data"
    }
   ],
   "source": [
    "#create SAT 2018 participation cmap\n",
    "ax = participation_map.plot(column='Participation_sat18', legend=True, figsize=(20,5), vmin=0, vmax=1)\n",
    "ax.set_xlim([-180, -60])\n",
    "ax.set_title('Comparison of SAT Participation in 2018')\n",
    "# Outlines Alabama\n",
    "alabama.plot(ax=ax, edgecolor='#fff', linewidth=2, facecolor='none')\n",
    "# Annotate the map with the value for Alabama\n",
    "alabama_value = participation_map.loc[participation_map['NAME'] == 'Alabama', 'Participation_sat18'].values[0]\n",
    "ax.annotate(f'Alabama: {alabama_value}', xy=(-88.2, 22.3), xycoords='data', color='black', fontsize=12)"
   ]
  },
  {
   "cell_type": "code",
   "execution_count": 206,
   "id": "978ea719",
   "metadata": {},
   "outputs": [
    {
     "data": {
      "text/plain": [
       "Text(-88.2, 22.3, 'Alabama: 0.07')"
      ]
     },
     "execution_count": 206,
     "metadata": {},
     "output_type": "execute_result"
    },
    {
     "data": {
      "image/png": "[encoded data removed]",
      "text/plain": [
       "<Figure size 2000x500 with 2 Axes>"
      ]
     },
     "metadata": {},
     "output_type": "display_data"
    }
   ],
   "source": [
    "#2019 SAT Participation cmap\n",
    "ax = participation_map.plot(column=('Participation Rate_sat19'), legend=True, figsize=(20,5), vmin=0, vmax=1.0)\n",
    "ax.set_xlim([-180, -60])\n",
    "ax.set_title('Comparison of SAT Participation in 2019')\n",
    "# Outlines Alabama\n",
    "alabama.plot(ax=ax, edgecolor='#fff', linewidth=2, facecolor='none')\n",
    "# Annotate the map with the value for Alabama\n",
    "alabama_value = participation_map.loc[participation_map['NAME'] == 'Alabama', 'Participation Rate_sat19'].values[0]\n",
    "ax.annotate(f'Alabama: {alabama_value}', xy=(-88.2, 22.3), xycoords='data', color='black', fontsize=12)"
   ]
  },
  {
   "cell_type": "markdown",
   "id": "c284d66c",
   "metadata": {},
   "source": [
    "These geographic maps were intended to show that Alabama's low participation in SAT was a common trait it shared with it's peers across the south and mid-west. In this case the graphs have coloured Alabama much darker than intended and this will require further investigation. The values appear to be correct on annotation and other States appear to be showing accurately. When viewing in this context, it is clear that the SAT garners low participation across the south and mid-west, while remaing rlatively popular around the US coasts. The notable exception is Colorado, which switches teams from ACT to SAT in 2018."
   ]
  },
  {
   "cell_type": "code",
   "execution_count": 207,
   "id": "b050a92d",
   "metadata": {},
   "outputs": [
    {
     "name": "stdout",
     "output_type": "stream",
     "text": [
      "32    0.05\n",
      "Name: Participation_sat17, dtype: float64\n",
      "32    0.06\n",
      "Name: Participation_sat18, dtype: float64\n",
      "32    0.07\n",
      "Name: Participation Rate_sat19, dtype: float64\n",
      "32    1.0\n",
      "Name: Participation_comp17, dtype: float64\n",
      "32    1.0\n",
      "Name: Participation_comp18, dtype: float64\n",
      "32    1.0\n",
      "Name: Participation_comp19, dtype: float64\n"
     ]
    }
   ],
   "source": [
    "#double checking to confirm values are correct in dataframe\n",
    "print(participation_map['Participation_sat17'].loc[participation_map['NAME'] == 'Alabama'])\n",
    "print(participation_map['Participation_sat18'].loc[participation_map['NAME'] == 'Alabama'])\n",
    "print(participation_map['Participation Rate_sat19'].loc[participation_map['NAME'] == 'Alabama'])\n",
    "print(participation_map['Participation_comp17'].loc[participation_map['NAME'] == 'Alabama'])\n",
    "print(participation_map['Participation_comp18'].loc[participation_map['NAME'] == 'Alabama'])\n",
    "print(participation_map['Participation_comp19'].loc[participation_map['NAME'] == 'Alabama'])"
   ]
  },
  {
   "cell_type": "code",
   "execution_count": 208,
   "id": "59618380",
   "metadata": {},
   "outputs": [
    {
     "data": {
      "text/plain": [
       "Text(-88.2, 22.3, 'Alabama: 1.0')"
      ]
     },
     "execution_count": 208,
     "metadata": {},
     "output_type": "execute_result"
    },
    {
     "data": {
      "image/png": "[encoded data removed]",
      "text/plain": [
       "<Figure size 2000x500 with 2 Axes>"
      ]
     },
     "metadata": {},
     "output_type": "display_data"
    }
   ],
   "source": [
    "# ACT Participation 2017\n",
    "\n",
    "ax = participation_map.plot(column='Participation_comp17', legend=True, figsize=(20,5), vmin=0, vmax=1)\n",
    "ax.set_xlim([-180, -60])\n",
    "ax.set_title('Comparison of ACT Participation in 2017')\n",
    "# Outlines Alabama\n",
    "alabama.plot(ax=ax, edgecolor='000', linewidth=2, facecolor='none')\n",
    "# Annotate the map with the value for Alabama\n",
    "alabama_value = participation_map.loc[participation_map['NAME'] == 'Alabama', 'Participation_comp17'].values[0]\n",
    "ax.annotate(f'Alabama: {alabama_value}', xy=(-88.2, 22.3), xycoords='data', color='black', fontsize=12)"
   ]
  },
  {
   "cell_type": "code",
   "execution_count": 209,
   "id": "66abcecb",
   "metadata": {},
   "outputs": [
    {
     "data": {
      "text/plain": [
       "Text(-88.2, 22.3, 'Alabama: 1.0')"
      ]
     },
     "execution_count": 209,
     "metadata": {},
     "output_type": "execute_result"
    },
    {
     "data": {
      "image/png": "[encoded data removed]",
      "text/plain": [
       "<Figure size 2000x500 with 2 Axes>"
      ]
     },
     "metadata": {},
     "output_type": "display_data"
    }
   ],
   "source": [
    "#2018 ACT participation cmap\n",
    "ax = participation_map.plot(column='Participation_comp18', legend=True, figsize=(20,5), vmin=0, vmax=1)\n",
    "ax.set_xlim([-180, -60])\n",
    "ax.set_title('Comparison of ACT Participation in 2018')\n",
    "# Outlines Alabama\n",
    "alabama.plot(ax=ax, edgecolor='#000', linewidth=2, facecolor='none')\n",
    "# Annotate the map with the value for Alabama\n",
    "alabama_value = participation_map.loc[participation_map['NAME'] == 'Alabama', 'Participation_comp18'].values[0]\n",
    "ax.annotate(f'Alabama: {alabama_value}', xy=(-88.2, 22.3), xycoords='data', color='black', fontsize=12)"
   ]
  },
  {
   "cell_type": "code",
   "execution_count": 210,
   "id": "695bb3d1",
   "metadata": {},
   "outputs": [
    {
     "data": {
      "text/plain": [
       "Text(-88.2, 22.3, 'Alabama: 1.0')"
      ]
     },
     "execution_count": 210,
     "metadata": {},
     "output_type": "execute_result"
    },
    {
     "data": {
      "image/png": "[encoded data removed]",
      "text/plain": [
       "<Figure size 1500x500 with 2 Axes>"
      ]
     },
     "metadata": {},
     "output_type": "display_data"
    }
   ],
   "source": [
    "#ACT 2019 Participation map\n",
    "ax = participation_map.plot(column='Participation_comp19', legend=True, figsize=(15,5), vmin=0, vmax=1)\n",
    "ax.set_xlim([-180, -60])\n",
    "ax.set_title('Comparison of ACT Participation in 2019')\n",
    "# Outlines Alabama\n",
    "alabama.plot(ax=ax, edgecolor='#000', linewidth=2, facecolor='none')\n",
    "# Annotate the map with the value for Alabama\n",
    "alabama_value = participation_map.loc[participation_map['NAME'] == 'Alabama', 'Participation_comp19'].values[0]\n",
    "ax.annotate(f'Alabama: {alabama_value}', xy=(-88.2, 22.3), xycoords='data', color='black', fontsize=12)"
   ]
  },
  {
   "cell_type": "markdown",
   "id": "58a6c68b",
   "metadata": {},
   "source": [
    "<p>ACT appears to largely hold strong in it's high participation rates across southern and mid western states. The notable exception based on the mapping is when ACT's participation rates in Colorado fall in 2018 and 19, creating a break in ACT's geographies of dominance.</p>\n",
    "<p>Colorado switched from the ACT to the SAT as the statewide college entrance exam in 2018. The Colorado Department of Education made the decision to switch to the SAT in 2015, citing reasons such as cost, alignment with state academic standards, and the fact that the SAT offers free test-taking opportunities for all Colorado juniors.</p>"
   ]
  },
  {
   "cell_type": "markdown",
   "id": "85552710",
   "metadata": {},
   "source": [
    "### 7. Recommendations\n",
    "#### 7.1 General Recommendations\n",
    "<p> Our analysis has shown that State's have a strong preference for SAT or ACT. State mandated testing is likely a key driver behind the high levels of participation (100%) in some States. Investing in engaging with State based regulators with a view to helping regulators and legislators understand the value of the SAT may have particular benefit to increasing participation.</p>\n",
    "<p> SAT has shown it can outperform ACT in a competitive tender that allowed it to unseat ACT as the official test of Colorado. The College Board has shown investing in meeting the needs of educators, regulators, legislators, parents and students in the mid-west can pay dividends in converting major gains. Colorado went from SAT participation of 11% in 2017 to 100% in 2018.</p>\n",
    "<p>It is also worth noting that despite losing its crown as the official test of Colorado, the ACT maintained participation Rates above 25% in 2018 and 2019. This suggests that there is slower attrition when losing official test status in a State. To that end, when incumbents lose, their lose may not be as big as the challenger's gains. This may be further motivation for the College Board to consider a more competitive strategy.</p>\n",
    "<p> Based on the data, the SAT appears to have stronger participation in coastal areas of the US and appears to be less popular in the Midwest and South compared to the ACT. At a general level, The College Board may consider targeting these regions for growth, in particular by providing greater access to the SAT. This may be done through increasing the number of testing centres in these regions and/or the frequency the SAT is available in these regions.<p>\n"
   ]
  },
  {
   "cell_type": "markdown",
   "id": "b46eabb6",
   "metadata": {},
   "source": [
    "#### 7.2 Alabama Recommendations\n",
    "<p>Alabama consistently held a 100% participation rate for the ACT from 2017-2019. On this basis we can be confident that Alabamans are willing and able to engage in college entry testing. The SAT's concurrent lower participation of 5-7% shows that there is opportunity for the SAT to improve in the State and the incremental delivery of 1% participation increases each year through the period shows that even in a State with 100% ACT participation, the SAT can grow. </p>\n",
    "<p> Based on our engagement, we are confident the College Board is not willing rest on its laurels and wait 93 years to catch up to the ACT in Alabama at 1% per year. While the College Board's tactics in Alabama are delivering year-on-year improvements, to truly challenge the ACT in Alabama will likely require a significant investment in the State. </p>\n",
    "<p> SAT has shown in Colorado that it can win in a competitive tender. Should such a tender opportunity become available, The College Board should pursue it.</p>\n",
    "<p>The ACT benefits from a mandated requirement in Alabama. Taking over as the official test would be the ideal way to gaining a 100% participation rate in the State. In the near term, a more achievable goal may be to engage with parents groups, educators, regulators and legislators around a position of personal/parental choice in seeking to open Alabama's requirements to allow parents and students to choose the test that is right for them - that is, encourage the maintenance of the testing requirement, and promote the right for participants to choose the test they participate in. This could be a matter of 'Freedom', 'State's Right's', and 'Family'.</p>\n",
    "<p> This approach, along with increasing testing centres, increasing the frequency of testing availability, growing teacher training on the SAT and potentially adapting the SAT to better incorporate the testing needs and preferences of Alabamans, may give the College Board the necessary platform to build growth in the State and achieve a competitive market share - within the lifetime of the current board members.</p>"
   ]
  },
  {
   "cell_type": "code",
   "execution_count": null,
   "id": "c772403f",
   "metadata": {},
   "outputs": [],
   "source": []
  }
 ],
 "metadata": {
  "kernelspec": {
   "display_name": "Python 3 (ipykernel)",
   "language": "python",
   "name": "python3"
  },
  "language_info": {
   "codemirror_mode": {
    "name": "ipython",
    "version": 3
   },
   "file_extension": ".py",
   "mimetype": "text/x-python",
   "name": "python",
   "nbconvert_exporter": "python",
   "pygments_lexer": "ipython3",
   "version": "3.9.13"
  }
 },
 "nbformat": 4,
 "nbformat_minor": 5
}
